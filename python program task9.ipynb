{
 "cells": [
  {
   "cell_type": "markdown",
   "id": "2b435f7f",
   "metadata": {},
   "source": [
    "Q1. Write a Python program to check if the given number is a Disarium Number?"
   ]
  },
  {
   "cell_type": "code",
   "execution_count": 2,
   "id": "b6c48e0d",
   "metadata": {},
   "outputs": [
    {
     "name": "stdout",
     "output_type": "stream",
     "text": [
      "Enter number 135\n",
      "Enter No. is a Disarium Number\n"
     ]
    }
   ],
   "source": [
    "a=int(input(\"Enter number \"))\n",
    "b=a\n",
    "temp=[]\n",
    "while b>0:\n",
    "    c=b%10\n",
    "    b=b//10\n",
    "    temp.append(c)\n",
    "temp.reverse()\n",
    "j=1\n",
    "sum=0\n",
    "for i in temp:\n",
    "    sum=i**j+sum\n",
    "    j+=1\n",
    "if sum==a:\n",
    "    print(\"Enter No. is a Disarium Number\")\n",
    "else:\n",
    "    print(\"Enter No. is Disarium Number\"\"Enter No. is not a Disarium Number\")"
   ]
  },
  {
   "cell_type": "markdown",
   "id": "d81f73ae",
   "metadata": {},
   "source": [
    "\n",
    "Q.2 Write a Python program to print all disarium numbers between 1 to 100?"
   ]
  },
  {
   "cell_type": "code",
   "execution_count": 4,
   "id": "5447ba91",
   "metadata": {},
   "outputs": [
    {
     "name": "stdout",
     "output_type": "stream",
     "text": [
      "1 2 3 4 5 6 7 8 9 89 "
     ]
    }
   ],
   "source": [
    "for a in range (1,01):\n",
    "    b=a\n",
    "    temp=[]\n",
    "    while b>0:\n",
    "        c=b%10\n",
    "        b=b//10\n",
    "        temp.append(c)\n",
    "    temp.reverse()\n",
    "    j=1\n",
    "    sum=0\n",
    "    for i in temp:\n",
    "        sum=i**j+sum\n",
    "        j+=1\n",
    "    if sum==a:\n",
    "        print(a,end=\" \")"
   ]
  },
  {
   "cell_type": "markdown",
   "id": "c002934c",
   "metadata": {},
   "source": [
    "\n",
    "Q3. Write a Python program to check if the given number is Happy Number?\n"
   ]
  },
  {
   "cell_type": "code",
   "execution_count": 5,
   "id": "9c93e625",
   "metadata": {},
   "outputs": [
    {
     "name": "stdout",
     "output_type": "stream",
     "text": [
      "Enter Number49\n",
      "49 is a happy number\n"
     ]
    }
   ],
   "source": [
    "num=int(input(\"Enter Number\"))\n",
    "b=num\n",
    "temp=[]\n",
    "temp.append(num)\n",
    "while True:\n",
    "    sum=0\n",
    "    while b>0:\n",
    "        c=b%10\n",
    "        b=b//10\n",
    "        sum=(c**2)+sum\n",
    "    d=temp.count(sum)\n",
    "    if d==1:\n",
    "        print(f\"{num} is not happy number\")\n",
    "        break\n",
    "    b=sum\n",
    "    temp.append(sum)\n",
    "    if sum==1:\n",
    "        print(f\"{num} is a happy number\")\n",
    "        break"
   ]
  },
  {
   "cell_type": "markdown",
   "id": "487637c2",
   "metadata": {},
   "source": [
    "\n",
    "Q4. Write a Python program to print all happy numbers between 1 and 100?"
   ]
  },
  {
   "cell_type": "code",
   "execution_count": 6,
   "id": "64f5fe14",
   "metadata": {},
   "outputs": [
    {
     "name": "stdout",
     "output_type": "stream",
     "text": [
      "1 7 10 13 19 23 28 31 32 44 49 68 70 79 82 86 91 94 97 100 "
     ]
    }
   ],
   "source": [
    "for num in range (1,101): \n",
    "    b=num\n",
    "    temp=[]\n",
    "    d=0\n",
    "    temp.append(num)\n",
    "    while True:\n",
    "        sum=0\n",
    "        while b>0:\n",
    "            c=b%10\n",
    "            b=b//10\n",
    "            sum=(c**2)+sum\n",
    "        if num!=1:\n",
    "            d=temp.count(sum)\n",
    "        if d==1:\n",
    "            break\n",
    "        b=sum\n",
    "        temp.append(sum)\n",
    "        if sum==1:\n",
    "            print(num,end=\" \")\n",
    "            break\n",
    "   "
   ]
  },
  {
   "cell_type": "markdown",
   "id": "dad030ad",
   "metadata": {},
   "source": [
    "\n",
    "Q5. Write a Python program to determine whether the given number is a Harshad Number?"
   ]
  },
  {
   "cell_type": "code",
   "execution_count": 7,
   "id": "9dba2573",
   "metadata": {},
   "outputs": [
    {
     "name": "stdout",
     "output_type": "stream",
     "text": [
      "Enter Number30\n",
      "30 is a Harshad number\n"
     ]
    }
   ],
   "source": [
    "a=int(input(\"Enter Number\"))\n",
    "b=a\n",
    "sum=0\n",
    "while b>0:\n",
    "    c=b%10\n",
    "    b=b//10\n",
    "    sum=sum+c\n",
    "if a%sum==0:\n",
    "    print(f\"{a} is a Harshad number\")\n",
    "else:\n",
    "    print(f\"{a} is a not Harshad number\")"
   ]
  },
  {
   "cell_type": "markdown",
   "id": "4eaf3cc8",
   "metadata": {},
   "source": [
    "\n",
    "Q6. Write a Python program to print all pronic numbers between 1 and 100?"
   ]
  },
  {
   "cell_type": "code",
   "execution_count": 8,
   "id": "37d5490d",
   "metadata": {},
   "outputs": [
    {
     "name": "stdout",
     "output_type": "stream",
     "text": [
      "2 6 12 20 30 42 56 72 90 "
     ]
    }
   ],
   "source": [
    "for i in range (1,101):\n",
    "    for j in range (1,i+1):\n",
    "        if j*(j+1)==i:\n",
    "            print(i,end=\" \")"
   ]
  }
 ],
 "metadata": {
  "kernelspec": {
   "display_name": "Python 3 (ipykernel)",
   "language": "python",
   "name": "python3"
  },
  "language_info": {
   "codemirror_mode": {
    "name": "ipython",
    "version": 3
   },
   "file_extension": ".py",
   "mimetype": "text/x-python",
   "name": "python",
   "nbconvert_exporter": "python",
   "pygments_lexer": "ipython3",
   "version": "3.9.12"
  }
 },
 "nbformat": 4,
 "nbformat_minor": 5
}
