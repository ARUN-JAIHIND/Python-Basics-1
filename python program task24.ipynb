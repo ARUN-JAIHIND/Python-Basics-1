{
 "cells": [
  {
   "cell_type": "code",
   "execution_count": null,
   "id": "415dcb4b",
   "metadata": {},
   "outputs": [],
   "source": [
    "Question1\n",
    "Create a function that takes an integer and returns a list from 1 to the given number, where:\n",
    "1. If the number can be divided evenly by 4, amplify it by 10 (i.e. return 10 times the\n",
    "number).\n",
    "2. If the number cannot be divided evenly by 4, simply return the number.\n",
    "Examples\n",
    "amplify(4) ➞ [1, 2, 3, 40]\n",
    "amplify(3) ➞ [1, 2, 3]\n",
    "amplify(25) ➞ [1, 2, 3, 40, 5, 6, 7, 80, 9, 10, 11, 120, 13, 14, 15, 160,\n",
    "17, 18, 19, 200, 21, 22, 23, 240, 25]\n",
    "Notes\n",
    " The given integer will always be equal to or greater than 1.\n",
    " Include the number (see example above).\n",
    " To perform this problem with its intended purpose, try doing it with list\n",
    "comprehensions. If that's too difficult, just solve the challenge any way you can."
   ]
  },
  {
   "cell_type": "code",
   "execution_count": 1,
   "id": "1c25a719",
   "metadata": {},
   "outputs": [
    {
     "name": "stdout",
     "output_type": "stream",
     "text": [
      "Enter number20\n"
     ]
    },
    {
     "data": {
      "text/plain": [
       "[1, 2, 3, 40, 5, 6, 7, 80, 9, 10, 11, 120, 13, 14, 15, 160, 17, 18, 19, 200]"
      ]
     },
     "execution_count": 1,
     "metadata": {},
     "output_type": "execute_result"
    }
   ],
   "source": [
    "def check():\n",
    "    while True:\n",
    "        num=int(input(\"Enter number\"))\n",
    "        if num>1:\n",
    "            break\n",
    "        else:\n",
    "            print(\"Kindy enter No. greater than 1\")\n",
    "    l1=[]\n",
    "    for i in range (1,num+1):\n",
    "        if i%4==0:\n",
    "            l1.append(i*10)\n",
    "        else:\n",
    "            l1.append(i)\n",
    "    return l1\n",
    "check()"
   ]
  },
  {
   "cell_type": "code",
   "execution_count": null,
   "id": "f362ea9f",
   "metadata": {},
   "outputs": [],
   "source": [
    "Question2\n",
    "Create a function that takes a list of numbers and return the number that's unique.\n",
    "Examples\n",
    "unique([3, 3, 3, 7, 3, 3]) ➞ 7\n",
    "unique([0, 0, 0.77, 0, 0]) ➞ 0.77\n",
    "unique([0, 1, 1, 1, 1, 1, 1, 1]) ➞ 0\n",
    "Notes\n",
    "Test cases will always have exactly one unique number while all others are the same."
   ]
  },
  {
   "cell_type": "code",
   "execution_count": 2,
   "id": "e4e47dd0",
   "metadata": {},
   "outputs": [
    {
     "data": {
      "text/plain": [
       "7"
      ]
     },
     "execution_count": 2,
     "metadata": {},
     "output_type": "execute_result"
    }
   ],
   "source": [
    "def unique(n):\n",
    "    l=[]\n",
    "    for i in n:\n",
    "        l.append(i)\n",
    "        for j in n:\n",
    "            if n.count(j)==1:\n",
    "                return j\n",
    "unique([3,3,3,3,7,3,3])"
   ]
  },
  {
   "cell_type": "code",
   "execution_count": null,
   "id": "768ad8f1",
   "metadata": {},
   "outputs": [],
   "source": [
    "Question3\n",
    "Your task is to create a Circle constructor that creates a circle with a radius provided by an\n",
    "argument. The circles constructed must have two getters getArea() (PIr^2) and\n",
    "getPerimeter() (2PI*r) which give both respective areas and perimeter (circumference).\n",
    "For help with this class, I have provided you with a Rectangle constructor which you can use\n",
    "as a base example.\n",
    "Examples\n",
    "circy = Circle(11)\n",
    "circy.getArea()\n",
    "# Should return 380.132711084365\n",
    "circy = Circle(4.44)\n",
    "circy.getPerimeter()\n",
    "# Should return 27.897342763877365\n",
    "Notes\n",
    "Round results up to the nearest integer."
   ]
  },
  {
   "cell_type": "code",
   "execution_count": 3,
   "id": "85c9f8ae",
   "metadata": {},
   "outputs": [
    {
     "name": "stdout",
     "output_type": "stream",
     "text": [
      "Area is  2826.0\n",
      "Perimeter is 188.4\n"
     ]
    }
   ],
   "source": [
    "class circle:\n",
    "    pi=3.14\n",
    "    def __init__(self,radius):\n",
    "        self.r=radius\n",
    " \n",
    "    def getarea(self):\n",
    "        area=self.pi*(self.r**2)\n",
    "        return print(\"Area is \",area)\n",
    "    def getperimeter(self):\n",
    "        peri=2*self.pi*self.r\n",
    "        return print(\"Perimeter is\",peri)\n",
    "circy=circle(30)\n",
    "circy.getarea()\n",
    "circy.getperimeter()"
   ]
  },
  {
   "cell_type": "code",
   "execution_count": null,
   "id": "fb1b1fd4",
   "metadata": {},
   "outputs": [],
   "source": [
    "Question 4\n",
    "Create a function that takes a list of strings and return a list, sorted from shortest to longest.\n",
    "Examples\n",
    "sort_by_length([\"Google\",\"Apple\",\"Microsoft\"])\n",
    "➞ [\"Apple\",\"Google\",\"Microsoft\"]\n",
    "sort_by_length([\"Leonardo\",\"Michelangelo\",\"Raphael\",\"Donatello\"])\n",
    "➞ [\"Raphael\",\"Leonardo\", \"Donatello\",\"Michelangelo\"]\n",
    "All test cases contain lists with strings of different lengths, so you won't have to deal with\n",
    "multiple strings of the same length."
   ]
  },
  {
   "cell_type": "code",
   "execution_count": 4,
   "id": "0bcb18d5",
   "metadata": {},
   "outputs": [
    {
     "data": {
      "text/plain": [
       "['Raphael', 'Leonardo', 'Donatello', 'Michelangelo']"
      ]
     },
     "execution_count": 4,
     "metadata": {},
     "output_type": "execute_result"
    }
   ],
   "source": [
    "def sortlen(l):\n",
    "    temp=[]\n",
    "    for i in l:\n",
    "        temp.append(len(i))\n",
    "    temp.sort()\n",
    "    z=[]\n",
    "    for i in temp:\n",
    "        for j in l:\n",
    "            if len(j)==i:\n",
    "                z.append(j)\n",
    "    return z\n",
    "sortlen([\"Leonardo\",\"Michelangelo\",\"Raphael\",\"Donatello\"])"
   ]
  },
  {
   "cell_type": "code",
   "execution_count": null,
   "id": "7be099d3",
   "metadata": {},
   "outputs": [],
   "source": [
    "#Question5\n",
    "Create a function that validates whether three given integers form a Pythagorean triplet. The\n",
    "sum of the squares of the two smallest integers must equal the square of the largest number to\n",
    "be validated.\n",
    "Examples\n",
    "is_triplet(3, 4, 5) ➞ True\n",
    "#3² + 4² = 25\n",
    "#5² = 25\n",
    "is_triplet(13, 5, 12) ➞ True\n",
    "#5² + 12² = 169\n",
    "#13² = 169\n",
    "is_triplet(1, 2, 3) ➞ False\n",
    "#1² + 2² = 5\n",
    "#3² = 9\n",
    "Notes\n",
    "Numbers may not be given in a sorted order."
   ]
  },
  {
   "cell_type": "code",
   "execution_count": 6,
   "id": "fe5f174e",
   "metadata": {},
   "outputs": [
    {
     "data": {
      "text/plain": [
       "True"
      ]
     },
     "execution_count": 6,
     "metadata": {},
     "output_type": "execute_result"
    }
   ],
   "source": [
    "def triplet(l):\n",
    "    l.sort()\n",
    "    if l[2]**2 ==l[0]**2 +l[1]**2:\n",
    "        return True\n",
    "    else:\n",
    "        return False\n",
    "triplet([4,5,3])"
   ]
  },
  {
   "cell_type": "code",
   "execution_count": null,
   "id": "0d083277",
   "metadata": {},
   "outputs": [],
   "source": []
  }
 ],
 "metadata": {
  "kernelspec": {
   "display_name": "Python 3 (ipykernel)",
   "language": "python",
   "name": "python3"
  },
  "language_info": {
   "codemirror_mode": {
    "name": "ipython",
    "version": 3
   },
   "file_extension": ".py",
   "mimetype": "text/x-python",
   "name": "python",
   "nbconvert_exporter": "python",
   "pygments_lexer": "ipython3",
   "version": "3.9.12"
  }
 },
 "nbformat": 4,
 "nbformat_minor": 5
}
