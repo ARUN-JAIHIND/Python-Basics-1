{
 "cells": [
  {
   "cell_type": "code",
   "execution_count": null,
   "id": "71adbdbe",
   "metadata": {},
   "outputs": [],
   "source": [
    "Question 1:\n",
    "\n",
    "Define a class with a generator which can iterate the numbers, which are divisible by 7, between a given range 0 and n.\n"
   ]
  },
  {
   "cell_type": "code",
   "execution_count": 1,
   "id": "15dad018",
   "metadata": {},
   "outputs": [
    {
     "name": "stdout",
     "output_type": "stream",
     "text": [
      "enter range 0 to 100\n",
      "0 7 14 21 28 35 42 49 56 63 70 77 84 91 98 "
     ]
    }
   ],
   "source": [
    "class divi:\n",
    "    def divseven(self):\n",
    "        num=int(input(\"enter range 0 to \"))\n",
    "        for i in range(num):\n",
    "            if i%7==0:\n",
    "                yield i\n",
    "s=divi()\n",
    "for i in s.divseven():\n",
    "    print(i,end=\" \")"
   ]
  },
  {
   "cell_type": "code",
   "execution_count": null,
   "id": "af4371ef",
   "metadata": {},
   "outputs": [],
   "source": [
    "Question 2:\n",
    "Write a program to compute the frequency of the words from the input.\n",
    "The output should output after sorting the key alphanumerically. \n",
    "\n",
    "Suppose the following input is supplied to the program:\n",
    "\n",
    "New to Python or choosing between Python 2 and Python 3? Read Python 2 or Python 3.\n",
    "\n",
    "Then, the output should be:\n",
    "\n",
    "2:2\n",
    "\n",
    "3.:1\n",
    "\n",
    "3?:1\n",
    "\n",
    "New:1\n",
    "\n",
    "Python:5\n",
    "\n",
    "Read:1\n",
    "\n",
    "and:1\n",
    "\n",
    "between:1\n",
    "\n",
    "choosing:1\n",
    "\n",
    "or:2\n",
    "\n",
    "to:1\n"
   ]
  },
  {
   "cell_type": "code",
   "execution_count": 3,
   "id": "65be6e8c",
   "metadata": {},
   "outputs": [
    {
     "name": "stdout",
     "output_type": "stream",
     "text": [
      "{'New': 1, 'to': 1, 'Python': 5, 'or': 2, 'choosing': 1, 'between': 1, '2': 2, 'and': 1, '3?': 1, 'Read': 1, '3.': 1}\n"
     ]
    }
   ],
   "source": [
    "l_str=\"New to Python or choosing between Python 2 and Python 3? Read Python 2 or Python 3.\"\n",
    "s=l_str.split(\" \")\n",
    "temp={}\n",
    "for i in s:\n",
    "    if i in s:\n",
    "        temp[i]=s.count(i)\n",
    "print(temp)      "
   ]
  },
  {
   "cell_type": "code",
   "execution_count": null,
   "id": "4c929dd6",
   "metadata": {},
   "outputs": [],
   "source": [
    "Question 3:\n",
    "\n",
    "Define a class Person and its two child classes: Male and Female.\n",
    "All classes have a method \"getGender\" which can print \"Male\" for Male class and \"Female\" for Female class.\n"
   ]
  },
  {
   "cell_type": "code",
   "execution_count": null,
   "id": "1c6e1293",
   "metadata": {},
   "outputs": [],
   "source": [
    "class Person:\n",
    "    pass\n",
    "class Male(Person):\n",
    "    def getgender(self):\n",
    "        return \"male\"\n",
    "class Female(Person):\n",
    "    def getgender(self):\n",
    "        return \"female\"\n",
    "\n",
    "s=Female()\n",
    "print(s.getgender())"
   ]
  },
  {
   "cell_type": "code",
   "execution_count": null,
   "id": "82cc838d",
   "metadata": {},
   "outputs": [],
   "source": [
    "Question 4:\n",
    "Please write a program to generate all sentences where subject is in [\"I\", \"You\"] and verb is in [\"Play\", \"Love\"]\n",
    "and the object is in [\"Hockey\",\"Football\"].\n"
   ]
  },
  {
   "cell_type": "code",
   "execution_count": 4,
   "id": "b0b558bb",
   "metadata": {},
   "outputs": [
    {
     "name": "stdout",
     "output_type": "stream",
     "text": [
      "I   Play   Hockey\n",
      "I   Play   Football\n",
      "I   Love   Hockey\n",
      "I   Love   Football\n",
      "You   Play   Hockey\n",
      "You   Play   Football\n",
      "You   Love   Hockey\n",
      "You   Love   Football\n"
     ]
    }
   ],
   "source": [
    "sub=[\"I\", \"You\"]\n",
    "verb=[\"Play\", \"Love\"]\n",
    "obj=[\"Hockey\",\"Football\"]\n",
    "for i in sub:\n",
    "    for j in verb:\n",
    "        for k in obj:\n",
    "            print(i,\" \",j,\" \",k)"
   ]
  },
  {
   "cell_type": "code",
   "execution_count": null,
   "id": "3b5b4b4d",
   "metadata": {},
   "outputs": [],
   "source": [
    "Question 5:\n",
    "Please write a program to compress and decompress the string \"hello world!hello world!hello world!hello world!\"."
   ]
  },
  {
   "cell_type": "code",
   "execution_count": 5,
   "id": "4b6f42c6",
   "metadata": {},
   "outputs": [
    {
     "name": "stdout",
     "output_type": "stream",
     "text": [
      "the compress string is  b'x\\x9c\\xcbH\\xcd\\xc9\\xc9W(\\xcf/\\xcaIQ\\xcc \\x82\\r\\x00\\xbd[\\x11\\xf5'\n",
      "the decompress string string b'hello world!hello world!hello world!hello world!'\n"
     ]
    }
   ],
   "source": [
    "import zlib\n",
    "d=b\"hello world!hello world!hello world!hello world!\"\n",
    "temp=zlib.compress(d)\n",
    "print(\"the compress string is \",temp)\n",
    "print(\"the decompress string string\",zlib.decompress(temp))"
   ]
  },
  {
   "cell_type": "code",
   "execution_count": null,
   "id": "e508070e",
   "metadata": {},
   "outputs": [],
   "source": [
    "Question 6:\n",
    "Please write a binary search function which searches an item in a sorted list.\n",
    "The function should return the index of element to be searched in the list\n"
   ]
  },
  {
   "cell_type": "code",
   "execution_count": 6,
   "id": "60367975",
   "metadata": {},
   "outputs": [
    {
     "data": {
      "text/plain": [
       "3"
      ]
     },
     "execution_count": 6,
     "metadata": {},
     "output_type": "execute_result"
    }
   ],
   "source": [
    "def binary_search(lst, num):\n",
    "    low = 0\n",
    "    high = len(lst) - 1\n",
    "    \n",
    "    while low <= high:\n",
    "        mid = round((low + high) / 2)\n",
    "        \n",
    "        if lst[mid] == num:\n",
    "            return mid\n",
    "        elif lst[mid] > num:\n",
    "            high = mid - 1\n",
    "        else:\n",
    "            low = mid + 1\n",
    "    return None\n",
    "binary_search([4,7,8,23,45,67],23)"
   ]
  },
  {
   "cell_type": "code",
   "execution_count": null,
   "id": "539c7a2d",
   "metadata": {},
   "outputs": [],
   "source": []
  }
 ],
 "metadata": {
  "kernelspec": {
   "display_name": "Python 3 (ipykernel)",
   "language": "python",
   "name": "python3"
  },
  "language_info": {
   "codemirror_mode": {
    "name": "ipython",
    "version": 3
   },
   "file_extension": ".py",
   "mimetype": "text/x-python",
   "name": "python",
   "nbconvert_exporter": "python",
   "pygments_lexer": "ipython3",
   "version": "3.9.12"
  }
 },
 "nbformat": 4,
 "nbformat_minor": 5
}
