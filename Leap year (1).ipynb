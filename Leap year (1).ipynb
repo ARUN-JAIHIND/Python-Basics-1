{
 "cells": [
  {
   "cell_type": "code",
   "execution_count": 1,
   "id": "e229a778",
   "metadata": {},
   "outputs": [
    {
     "name": "stdout",
     "output_type": "stream",
     "text": [
      "Enter the Year which U want to check Leap year or not2005\n",
      "Not leap year\n"
     ]
    }
   ],
   "source": [
    "#Leap Year Programe\n",
    "year=int(input(\"Enter the Year which U want to check Leap year \"))\n",
    "if year%4==0:\n",
    "    if year%100==0:\n",
    "        if year%400==0:\n",
    "            print(\" Leap Year\")\n",
    "        else:\n",
    "            print(\"Not Leap Year\")\n",
    "    else:\n",
    "        print(\"Leap Year\")\n",
    "else:\n",
    "    print(\"Not leap year\")"
   ]
  },
  {
   "cell_type": "code",
   "execution_count": null,
   "id": "673c67b9",
   "metadata": {},
   "outputs": [],
   "source": []
  }
 ],
 "metadata": {
  "kernelspec": {
   "display_name": "Python 3 (ipykernel)",
   "language": "python",
   "name": "python3"
  },
  "language_info": {
   "codemirror_mode": {
    "name": "ipython",
    "version": 3
   },
   "file_extension": ".py",
   "mimetype": "text/x-python",
   "name": "python",
   "nbconvert_exporter": "python",
   "pygments_lexer": "ipython3",
   "version": "3.9.12"
  }
 },
 "nbformat": 4,
 "nbformat_minor": 5
}
