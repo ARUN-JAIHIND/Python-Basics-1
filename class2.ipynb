{
 "cells": [
  {
   "cell_type": "code",
   "execution_count": 1,
   "id": "218e1234",
   "metadata": {},
   "outputs": [],
   "source": [
    "class person1:\n",
    "    def __init__ (self,name,surname,yob):\n",
    "        self._name=name\n",
    "        self.__surname=surname\n",
    "        self.yob=yob\n",
    "aru=person1(\"Arun\",\"kumar\",1991)"
   ]
  },
  {
   "cell_type": "code",
   "execution_count": 3,
   "id": "97cc3a75",
   "metadata": {},
   "outputs": [
    {
     "name": "stdout",
     "output_type": "stream",
     "text": [
      "Arun\n"
     ]
    }
   ],
   "source": [
    "print(aru._name)"
   ]
  },
  {
   "cell_type": "code",
   "execution_count": 4,
   "id": "3ea7db8c",
   "metadata": {},
   "outputs": [
    {
     "name": "stdout",
     "output_type": "stream",
     "text": [
      "kumar\n"
     ]
    }
   ],
   "source": [
    "print(aru._person1__surname)"
   ]
  },
  {
   "cell_type": "code",
   "execution_count": 13,
   "id": "5c7d3597",
   "metadata": {},
   "outputs": [],
   "source": [
    "class person:\n",
    "    _name=\"Tarun\"\n",
    "    __surname=\"Tanuha\"\n",
    "    yob=19938\n",
    "    \n",
    "    def _age(self,current_yr):\n",
    "        return current_yr - self.yob\n",
    "    def __age1 (self,current_yr):\n",
    "        return current_yr - self.yob"
   ]
  },
  {
   "cell_type": "code",
   "execution_count": 14,
   "id": "c6170a6c",
   "metadata": {},
   "outputs": [],
   "source": [
    "a=person()"
   ]
  },
  {
   "cell_type": "code",
   "execution_count": 7,
   "id": "f5de8265",
   "metadata": {},
   "outputs": [
    {
     "data": {
      "text/plain": [
       "'Tarun'"
      ]
     },
     "execution_count": 7,
     "metadata": {},
     "output_type": "execute_result"
    }
   ],
   "source": [
    "a._name"
   ]
  },
  {
   "cell_type": "code",
   "execution_count": 8,
   "id": "d7c51456",
   "metadata": {},
   "outputs": [
    {
     "data": {
      "text/plain": [
       "'Tanuha'"
      ]
     },
     "execution_count": 8,
     "metadata": {},
     "output_type": "execute_result"
    }
   ],
   "source": [
    "a._person__surname"
   ]
  },
  {
   "cell_type": "code",
   "execution_count": 9,
   "id": "adf7c90f",
   "metadata": {},
   "outputs": [
    {
     "data": {
      "text/plain": [
       "19938"
      ]
     },
     "execution_count": 9,
     "metadata": {},
     "output_type": "execute_result"
    }
   ],
   "source": [
    "a.yob"
   ]
  },
  {
   "cell_type": "code",
   "execution_count": 15,
   "id": "dd7ecfe5",
   "metadata": {},
   "outputs": [
    {
     "data": {
      "text/plain": [
       "-17947"
      ]
     },
     "execution_count": 15,
     "metadata": {},
     "output_type": "execute_result"
    }
   ],
   "source": [
    "a._age(1991)"
   ]
  },
  {
   "cell_type": "code",
   "execution_count": 17,
   "id": "039e871d",
   "metadata": {},
   "outputs": [
    {
     "data": {
      "text/plain": [
       "-17940"
      ]
     },
     "execution_count": 17,
     "metadata": {},
     "output_type": "execute_result"
    }
   ],
   "source": [
    "a._person__age1(1998)"
   ]
  },
  {
   "cell_type": "code",
   "execution_count": 18,
   "id": "e338a456",
   "metadata": {},
   "outputs": [],
   "source": [
    "class worker(person):\n",
    "    name=\"varun\"\n",
    "    surname=\"vanuha\"\n",
    "    yob=19938\n",
    "    "
   ]
  },
  {
   "cell_type": "code",
   "execution_count": 19,
   "id": "6c485327",
   "metadata": {},
   "outputs": [],
   "source": [
    "d=worker()"
   ]
  },
  {
   "cell_type": "code",
   "execution_count": 20,
   "id": "1ceb8ec3",
   "metadata": {},
   "outputs": [
    {
     "data": {
      "text/plain": [
       "'Tarun'"
      ]
     },
     "execution_count": 20,
     "metadata": {},
     "output_type": "execute_result"
    }
   ],
   "source": [
    "d._name"
   ]
  },
  {
   "cell_type": "code",
   "execution_count": 21,
   "id": "94514b18",
   "metadata": {},
   "outputs": [
    {
     "data": {
      "text/plain": [
       "'Tanuha'"
      ]
     },
     "execution_count": 21,
     "metadata": {},
     "output_type": "execute_result"
    }
   ],
   "source": [
    "d._person__surname"
   ]
  },
  {
   "cell_type": "code",
   "execution_count": 22,
   "id": "042b5ac1",
   "metadata": {},
   "outputs": [
    {
     "data": {
      "text/plain": [
       "'varun'"
      ]
     },
     "execution_count": 22,
     "metadata": {},
     "output_type": "execute_result"
    }
   ],
   "source": [
    "d.name"
   ]
  },
  {
   "cell_type": "code",
   "execution_count": 23,
   "id": "eb6ce52e",
   "metadata": {},
   "outputs": [
    {
     "data": {
      "text/plain": [
       "'vanuha'"
      ]
     },
     "execution_count": 23,
     "metadata": {},
     "output_type": "execute_result"
    }
   ],
   "source": [
    "d.surname"
   ]
  },
  {
   "cell_type": "code",
   "execution_count": null,
   "id": "c7ed58e6",
   "metadata": {},
   "outputs": [],
   "source": []
  }
 ],
 "metadata": {
  "kernelspec": {
   "display_name": "Python 3 (ipykernel)",
   "language": "python",
   "name": "python3"
  },
  "language_info": {
   "codemirror_mode": {
    "name": "ipython",
    "version": 3
   },
   "file_extension": ".py",
   "mimetype": "text/x-python",
   "name": "python",
   "nbconvert_exporter": "python",
   "pygments_lexer": "ipython3",
   "version": "3.9.13"
  }
 },
 "nbformat": 4,
 "nbformat_minor": 5
}
