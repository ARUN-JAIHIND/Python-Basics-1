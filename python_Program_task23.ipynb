{
  "nbformat": 4,
  "nbformat_minor": 0,
  "metadata": {
    "colab": {
      "name": "python Program task23.ipynb",
      "provenance": []
    },
    "kernelspec": {
      "name": "python3",
      "display_name": "Python 3"
    },
    "language_info": {
      "name": "python"
    }
  },
  "cells": [
    {
      "cell_type": "code",
      "execution_count": null,
      "metadata": {
        "id": "B79GOlqccFiU"
      },
      "outputs": [],
      "source": [
        "Question1\n",
        "Create a function that takes three parameters where:\n",
        " x is the start of the range (inclusive).\n",
        " y is the end of the range (inclusive).\n",
        " n is the divisor to be checked against.\n",
        "Return an ordered list with numbers in the range that are divisible by the third parameter n.\n",
        "Return an empty list if there are no numbers that are divisible by n.\n",
        "Examples\n",
        "list_operation(1, 10, 3) ➞ [3, 6, 9]\n",
        "list_operation(7, 9, 2) ➞ [8]\n",
        "list_operation(15, 20, 7) ➞ []"
      ]
    },
    {
      "cell_type": "code",
      "source": [
        "def divisi():\n",
        "  l=input(\"Enter value of X,Y,N seperated by comma\")\n",
        "  l1=l.split(\",\")\n",
        "  temp=[]\n",
        "  for i in range (int(l1[0]),int(l1[1])+1):\n",
        "    if i%int(l1[2])==0:\n",
        "      temp.append(i)\n",
        "  return temp\n",
        "divisi()\n",
        "\n"
      ],
      "metadata": {
        "colab": {
          "base_uri": "https://localhost:8080/"
        },
        "id": "1l-f8LIdcVsP",
        "outputId": "12211a96-2cfd-479e-d970-fb3519245146"
      },
      "execution_count": null,
      "outputs": [
        {
          "name": "stdout",
          "output_type": "stream",
          "text": [
            "Enter value of X,Y,N seperated by comma1,10,3\n"
          ]
        },
        {
          "output_type": "execute_result",
          "data": {
            "text/plain": [
              "[3, 6, 9]"
            ]
          },
          "metadata": {},
          "execution_count": 14
        }
      ]
    },
    {
      "cell_type": "code",
      "source": [
        "Question2\n",
        "Create a function that takes in two lists and returns True if the second list follows the first list\n",
        "by one element, and False otherwise. In other words, determine if the second list is the first\n",
        "list shifted to the right by 1.\n",
        "Examples\n",
        "simon_says([1, 2], [5, 1]) ➞ True\n",
        "simon_says([1, 2], [5, 5]) ➞ False\n",
        "simon_says([1, 2, 3, 4, 5], [0, 1, 2, 3, 4]) ➞ True\n",
        "simon_says([1, 2, 3, 4, 5], [5, 5, 1, 2, 3]) ➞ False\n",
        "Notes\n",
        " Both input lists will be of the same length, and will have a minimum length of 2.\n",
        " The values of the 0-indexed element in the second list and the n-1th indexed element\n",
        "in the first list do not matter.\n"
      ],
      "metadata": {
        "id": "gDIIbSPXcpoR"
      },
      "execution_count": null,
      "outputs": []
    },
    {
      "cell_type": "code",
      "source": [
        "def A2(l1,l2):\n",
        "  count=0\n",
        "  for i in range(0,len(l1)-1):\n",
        "    if l1[i]==l2[i+1] or l1[i+1]==l2[i]:\n",
        "      count+=1\n",
        "  if count==(len(l1)-1):\n",
        "    return True\n",
        "  else:\n",
        "    return False\n",
        "A2([1, 2, 3, 4, 5],[5, 5, 1, 2, 3])"
      ],
      "metadata": {
        "colab": {
          "base_uri": "https://localhost:8080/"
        },
        "id": "IrtLeczOgQiv",
        "outputId": "d1fa9989-7361-4355-e034-fa6014e88ed0"
      },
      "execution_count": null,
      "outputs": [
        {
          "output_type": "execute_result",
          "data": {
            "text/plain": [
              "False"
            ]
          },
          "metadata": {},
          "execution_count": 36
        }
      ]
    },
    {
      "cell_type": "code",
      "source": [
        "Question3\n",
        "A group of friends have decided to start a secret society. The name will be the first letter of\n",
        "each of their names, sorted in alphabetical order.\n",
        "Create a function that takes in a list of names and returns the name of the secret society.\n",
        "\n",
        "Examples\n",
        "society_name([\"Adam\",\"Sarah\",\"Malcolm\"]) ➞ \"AMS\"\n",
        "society_name([\"Harry\",\"New\",\"Luna\",\"Cho\"]) ➞ \"CHLN\"\n",
        "society_name([\"Phoebe\", \"Chandler\",\"Rachel\",\"Ross\",\"Monica\",\"Joey\"])"
      ],
      "metadata": {
        "id": "CxDGiiALix3P"
      },
      "execution_count": null,
      "outputs": []
    },
    {
      "cell_type": "code",
      "source": [
        "def ss(l):\n",
        "  sc_name=[]\n",
        "  for i in l:\n",
        "    sc_name.append(i[0])\n",
        "  sc_name.sort()\n",
        "  return sc_name\n",
        "ss([\"Harry\",\"New\",\"Luna\",\"Cho\"])"
      ],
      "metadata": {
        "colab": {
          "base_uri": "https://localhost:8080/"
        },
        "id": "-4tfXykNRTk3",
        "outputId": "34661d6b-8fc1-4b90-86a5-34babbf7ee9a"
      },
      "execution_count": null,
      "outputs": [
        {
          "output_type": "execute_result",
          "data": {
            "text/plain": [
              "['C', 'H', 'L', 'N']"
            ]
          },
          "metadata": {},
          "execution_count": 2
        }
      ]
    },
    {
      "cell_type": "code",
      "source": [
        "Question 4\n",
        "An isogram is a word that has no duplicate letters. Create a function that takes a string and\n",
        "returns either True or False depending on whether or not it \"isogram\".\n",
        "Examples\n",
        "is_isogram(\"Algorism\") ➞ True\n",
        "is_isogram(\"PasSword\") ➞ False\n",
        "# Not case sensitive.\n",
        "is_isogram(\"Consecutive\") ➞ False\n",
        "Notes\n",
        " Ignore letter case (should not be case sensitive).\n",
        " All test cases contain valid one word strings."
      ],
      "metadata": {
        "id": "BjDShdf19Ilc"
      },
      "execution_count": null,
      "outputs": []
    },
    {
      "cell_type": "code",
      "source": [
        "\n",
        "def isogram(l):\n",
        "  c=0\n",
        "  temp=l.lower()\n",
        "  for i in temp:\n",
        "    if (temp.count(i))>1:\n",
        "          break\n",
        "    else:\n",
        "      c=c+1\n",
        "  if c!=len(temp):\n",
        "    return False\n",
        "  else:\n",
        "    return True\n",
        "isogram(\"Algorism\")"
      ],
      "metadata": {
        "id": "hP588BspR6bM",
        "colab": {
          "base_uri": "https://localhost:8080/"
        },
        "outputId": "eaf35863-3b88-48df-9e37-35e781483dde"
      },
      "execution_count": 5,
      "outputs": [
        {
          "output_type": "execute_result",
          "data": {
            "text/plain": [
              "True"
            ]
          },
          "metadata": {},
          "execution_count": 5
        }
      ]
    },
    {
      "cell_type": "code",
      "source": [
        "Question5\n",
        "Create a function that takes a string and returns True or False, depending on whether the\n",
        "characters are in order or not.\n",
        "Examples\n",
        "is_in_order(\"abc\") ➞ True\n",
        "is_in_order(\"edabit\") ➞ False\n",
        "is_in_order(\"123\") ➞ True\n",
        "is_in_order(\"xyzz\") ➞ True\n",
        "Notes\n",
        "You don't have to handle empty strings."
      ],
      "metadata": {
        "id": "8mw4XlOcVMHl"
      },
      "execution_count": null,
      "outputs": []
    },
    {
      "cell_type": "code",
      "source": [
        "def check(l):\n",
        "  yes=0\n",
        "  for i in range (0,(len(l)-1)):\n",
        "    if ord(l[i])+1==ord(l[i+1]):\n",
        "      yes+=1\n",
        "  if yes==len(l)-1:\n",
        "    return True\n",
        "  else:\n",
        "    return False\n",
        "check(\"abcd\")"
      ],
      "metadata": {
        "colab": {
          "base_uri": "https://localhost:8080/"
        },
        "id": "8oOo64B5MST2",
        "outputId": "f2aee37b-68ed-4fcd-89e1-590f24cf828c"
      },
      "execution_count": 27,
      "outputs": [
        {
          "output_type": "execute_result",
          "data": {
            "text/plain": [
              "True"
            ]
          },
          "metadata": {},
          "execution_count": 27
        }
      ]
    },
    {
      "cell_type": "code",
      "source": [],
      "metadata": {
        "id": "X83ueEoXKNY2"
      },
      "execution_count": 27,
      "outputs": []
    },
    {
      "cell_type": "code",
      "source": [],
      "metadata": {
        "id": "qnBpQFJcOSmz"
      },
      "execution_count": null,
      "outputs": []
    }
  ]
}