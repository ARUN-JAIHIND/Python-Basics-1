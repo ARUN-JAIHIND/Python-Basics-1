{
 "cells": [
  {
   "cell_type": "code",
   "execution_count": null,
   "id": "b9ec15f8",
   "metadata": {},
   "outputs": [],
   "source": [
    "Question1\n",
    "Write a function that takes a list and a number as arguments. Add the number to the end of\n",
    "the list, then remove the first element of the list. The function should then return the updated\n",
    "list.\n",
    "Examples\n",
    "next_in_line([5, 6, 7, 8, 9], 1) ➞ [6, 7, 8, 9, 1]\n",
    "next_in_line([7, 6, 3, 23, 17], 10) ➞ [6, 3, 23, 17, 10]\n",
    "next_in_line([1, 10, 20, 42 ], 6) ➞ [10, 20, 42, 6]\n",
    "next_in_line([], 6) ➞ No list has been selected"
   ]
  },
  {
   "cell_type": "code",
   "execution_count": 1,
   "id": "cb2b2940",
   "metadata": {},
   "outputs": [
    {
     "name": "stdout",
     "output_type": "stream",
     "text": [
      "No list has been selected\n"
     ]
    }
   ],
   "source": [
    "def updatelist(l,a):\n",
    "    temp=[]\n",
    "    if len(l)!=0:\n",
    "        for i in range (1,len(l)):\n",
    "            temp.append(l[i])\n",
    "        temp.append(a)\n",
    "        print(temp)\n",
    "    else:\n",
    "        print(\"No list has been selected\")\n",
    "updatelist([],1)"
   ]
  },
  {
   "cell_type": "code",
   "execution_count": null,
   "id": "dd133f71",
   "metadata": {},
   "outputs": [],
   "source": [
    "Question2\n",
    "Create the function that takes a list of dictionaries and returns the sum of people's budgets.\n",
    "Examples\n",
    "get_budgets([\n",
    "{ “name”: “John”, “age”: 21, “budget”: 23000 },\n",
    "{ “name”: “Steve”, “age”: 32, “budget”: 40000 },\n",
    "{ “name”: “Martin”, “age”: 16, “budget”: 2700 }\n",
    "]) ➞ 65700\n",
    "\n",
    "get_budgets([\n",
    "{  \"name\":  \"John\",  \"age\": 21, \"budget\": 29000 },\n",
    "{  \"name\":  \"Steve\",  \"age\": 32,  \"budget\": 32000 },\n",
    "{  \"name\":  \"Martin\",  \"age\": 16, \"budget\": 1600 }]) ➞ 62600"
   ]
  },
  {
   "cell_type": "code",
   "execution_count": 2,
   "id": "c32e60aa",
   "metadata": {},
   "outputs": [
    {
     "name": "stdout",
     "output_type": "stream",
     "text": [
      "sum of people's budget is  62600\n"
     ]
    }
   ],
   "source": [
    "def budget(l):\n",
    "    sum=0\n",
    "    for i in l:\n",
    "        for j in i:\n",
    "            if j==\"budget\":\n",
    "                sum+=i[j]\n",
    "    return print(\"sum of people's budget is \",sum)\n",
    "budget([{  \"name\":  \"John\",  \"age\": 21, \"budget\": 29000 },\n",
    "{  \"name\":  \"Steve\",  \"age\": 32,  \"budget\": 32000 },\n",
    "{  \"name\":  \"Martin\",  \"age\": 16, \"budget\": 1600 }])"
   ]
  },
  {
   "cell_type": "code",
   "execution_count": null,
   "id": "2e068f85",
   "metadata": {},
   "outputs": [],
   "source": [
    "\n",
    "Question3\n",
    "Create a function that takes a string and returns a string with its letters in alphabetical order."
   ]
  },
  {
   "cell_type": "code",
   "execution_count": 3,
   "id": "1733b0a0",
   "metadata": {},
   "outputs": [
    {
     "data": {
      "text/plain": [
       "'addefhjjlsuwwy'"
      ]
     },
     "execution_count": 3,
     "metadata": {},
     "output_type": "execute_result"
    }
   ],
   "source": [
    "def alfa(s):\n",
    "    temp=list(s)\n",
    "    temp.sort()\n",
    "    p=\"\".join(temp)\n",
    "    return(p)\n",
    "alfa(\"shdwewyjaldjfu\")"
   ]
  },
  {
   "cell_type": "code",
   "execution_count": null,
   "id": "5db9a7ee",
   "metadata": {},
   "outputs": [],
   "source": [
    "Question4\n",
    "Suppose that you invest $10,000 for 10 years at an interest rate of 6% compounded monthly.\n",
    "What will be the value of your investment at the end of the 10 year period?\n",
    "Create a function that accepts the principal p, the term in years t, the interest rate r, and the\n",
    "number of compounding periods per year n. The function returns the value at the end of term\n",
    "rounded to the nearest cent.\n",
    "For the example above:\n",
    "compound_interest(10000, 10, 0.06, 12) ➞ 18193.97\n",
    "Note that the interest rate is given as a decimal and n=12 because with monthly compounding\n",
    "there are 12 periods per year. Compounding can also be done annually, quarterly, weekly, or\n",
    "daily.\n",
    "Examples\n",
    "compound_interest(100, 1, 0.05, 1) ➞ 105.0\n",
    "compound_interest(3500, 15, 0.1, 4) ➞ 15399.26\n",
    "compound_interest(100000, 20, 0.15, 365) ➞ 2007316.26"
   ]
  },
  {
   "cell_type": "code",
   "execution_count": 4,
   "id": "4f6beb5b",
   "metadata": {},
   "outputs": [
    {
     "data": {
      "text/plain": [
       "15399.264120852586"
      ]
     },
     "execution_count": 4,
     "metadata": {},
     "output_type": "execute_result"
    }
   ],
   "source": [
    "def ci(p,t,r,n):\n",
    "    ci=p*(1+(r/n))**(n*t)\n",
    "    return ci\n",
    "ci(3500,15,.1,4)"
   ]
  },
  {
   "cell_type": "code",
   "execution_count": null,
   "id": "4b7ec37d",
   "metadata": {},
   "outputs": [],
   "source": [
    "Question5\n",
    "Write a function that takes a list of elements and returns only the integers.\n",
    "Examples:\n",
    "return_only_integer([9, 2, “space”, “car”, “lion”, 16]) ➞ [9, 2, 16]\n",
    "return_only_integer([“hello”, 81, “basketball”, 123, “fox”]) ➞ [81, 123]\n",
    "return_only_integer([10, “121”, 56, 20, “car”, 3, “lion”]) ➞ [10, 56, 20,3]\n",
    "return_only_integer([“String”, True, 3.3, 1]) ➞ [1]"
   ]
  },
  {
   "cell_type": "code",
   "execution_count": 5,
   "id": "fcb43f64",
   "metadata": {},
   "outputs": [
    {
     "data": {
      "text/plain": [
       "[9, 2, 16]"
      ]
     },
     "execution_count": 5,
     "metadata": {},
     "output_type": "execute_result"
    }
   ],
   "source": [
    "def onlyint(l):\n",
    "    temp=[]\n",
    "    for i in l:\n",
    "        if type(i)==int:\n",
    "            temp.append(i)\n",
    "    return temp\n",
    "onlyint([9, 2,\"space\",\"car\",\"lion\", 16])"
   ]
  },
  {
   "cell_type": "code",
   "execution_count": null,
   "id": "8d27a363",
   "metadata": {},
   "outputs": [],
   "source": []
  }
 ],
 "metadata": {
  "kernelspec": {
   "display_name": "Python 3 (ipykernel)",
   "language": "python",
   "name": "python3"
  },
  "language_info": {
   "codemirror_mode": {
    "name": "ipython",
    "version": 3
   },
   "file_extension": ".py",
   "mimetype": "text/x-python",
   "name": "python",
   "nbconvert_exporter": "python",
   "pygments_lexer": "ipython3",
   "version": "3.9.12"
  }
 },
 "nbformat": 4,
 "nbformat_minor": 5
}
