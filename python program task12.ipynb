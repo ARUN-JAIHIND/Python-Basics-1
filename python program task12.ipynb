{
 "cells": [
  {
   "cell_type": "markdown",
   "id": "4a4a6f9a",
   "metadata": {},
   "source": [
    "Q1. Write a Python program to Extract Unique values dictionary values?"
   ]
  },
  {
   "cell_type": "code",
   "execution_count": 1,
   "id": "bfe5bd2f",
   "metadata": {},
   "outputs": [
    {
     "name": "stdout",
     "output_type": "stream",
     "text": [
      "The unique value of dictionary is  [1, 2, 3, 4, 5, 6, 45, 65, 66, 67]\n"
     ]
    }
   ],
   "source": [
    "l={'key1':[1,3,4,5,6],'key2':[2,3,45,65,4],'key3':[67,4,3,5,66]}\n",
    "b=set()\n",
    "for i in l.values():\n",
    "    for j in i:\n",
    "        b.update(set(i))\n",
    "b=list(b)\n",
    "b.sort()\n",
    "print(\"The unique value of dictionary is \",b)"
   ]
  },
  {
   "cell_type": "markdown",
   "id": "fb7a5b36",
   "metadata": {},
   "source": [
    "\n",
    "Q2. Write a Python program to find the sum of all items in a dictionary?"
   ]
  },
  {
   "cell_type": "code",
   "execution_count": 2,
   "id": "ef5c2120",
   "metadata": {},
   "outputs": [
    {
     "name": "stdout",
     "output_type": "stream",
     "text": [
      "283\n"
     ]
    }
   ],
   "source": [
    "l={'key1':[1,3,4,5,6],'key2':[2,3,45,65,4],'key3':[67,4,3,5,66]}\n",
    "sum=0\n",
    "for i in l.values():\n",
    "    for j in i:\n",
    "        sum+=j\n",
    "print(sum)"
   ]
  },
  {
   "cell_type": "markdown",
   "id": "bb5fa9c5",
   "metadata": {},
   "source": [
    "\n",
    "Q3. Write a Python program to Merging two Dictionaries?"
   ]
  },
  {
   "cell_type": "code",
   "execution_count": 3,
   "id": "9cf9003c",
   "metadata": {},
   "outputs": [
    {
     "name": "stdout",
     "output_type": "stream",
     "text": [
      "{'key1': [1, 3, 4, 5, 6], 'key2': [2, 3, 45, 65, 4], 'key3': [67, 4, 3, 5, 66], 'key4': [34, 87, 90], 'key5': [87, 876, 56]}\n"
     ]
    }
   ],
   "source": [
    "l={'key1':[1,3,4,5,6],'key2':[2,3,45,65,4],'key3':[67,4,3,5,66]}\n",
    "l1={'key4':[34,87,90],'key5':[87,876,56]}\n",
    "l.update(l1)\n",
    "print(l)"
   ]
  },
  {
   "cell_type": "markdown",
   "id": "b843c196",
   "metadata": {},
   "source": [
    "\n",
    "Q.4 Write a Python program to convert key-values list to flat dictionary?"
   ]
  },
  {
   "cell_type": "code",
   "execution_count": 4,
   "id": "b307e204",
   "metadata": {},
   "outputs": [
    {
     "name": "stdout",
     "output_type": "stream",
     "text": [
      "The Flat distionary is  {1: 'Abhi', 2: 'Anand', 3: 'Arjun', 4: 'Balram', 5: 'John'}\n"
     ]
    }
   ],
   "source": [
    "s={'roll no':[1,2,3,4,5],'Name':[\"Abhi\",\"Anand\",\"Arjun\",\"Balram\",\"John\"]}\n",
    "d=dict(zip(s['roll no'],s['Name']))\n",
    "print(\"The Flat distionary is \",d)"
   ]
  },
  {
   "cell_type": "markdown",
   "id": "3f23696d",
   "metadata": {},
   "source": [
    "\n",
    "Q.5. Write a Python program to insertion at the beginning in OrderedDict?"
   ]
  },
  {
   "cell_type": "code",
   "execution_count": 5,
   "id": "3fc0d981",
   "metadata": {},
   "outputs": [
    {
     "name": "stdout",
     "output_type": "stream",
     "text": [
      "OrderedDict([('key0', [34, 87, 90]), ('key1', [1, 3, 4, 5, 6]), ('key2', [2, 3, 45, 65, 4]), ('key3', [67, 4, 3, 5, 66])])\n"
     ]
    }
   ],
   "source": [
    "from collections import OrderedDict\n",
    "l=OrderedDict({'key1':[1,3,4,5,6],'key2':[2,3,45,65,4],'key3':[67,4,3,5,66]})\n",
    "l2=OrderedDict({'key0':[34,87,90]})\n",
    "l.update(l2)\n",
    "l.move_to_end('key0',last=False)\n",
    "print(l)"
   ]
  },
  {
   "cell_type": "markdown",
   "id": "d8c42fea",
   "metadata": {},
   "source": [
    "\n",
    "Q.6 Write a Python program to check order of character in string using OrderedDict()?"
   ]
  },
  {
   "cell_type": "code",
   "execution_count": 7,
   "id": "f39b8e96",
   "metadata": {},
   "outputs": [
    {
     "name": "stdout",
     "output_type": "stream",
     "text": [
      "Enter the key string scorpio\n",
      "Enter order of character which you want to check co\n",
      "order of character match in string\n"
     ]
    }
   ],
   "source": [
    "from collections import OrderedDict \n",
    "a=input(\"Enter the key string \")\n",
    "coc=input(\"Enter order of character which you want to check \")\n",
    "dict = OrderedDict.fromkeys(coc)\n",
    "j=0\n",
    "for i in dict.keys():\n",
    "    if i==coc[j]:\n",
    "        j+=1\n",
    "    if len(coc)==j:\n",
    "        print(\"order of character match in string\")\n",
    "        break"
   ]
  },
  {
   "cell_type": "markdown",
   "id": "d541200b",
   "metadata": {},
   "source": [
    "\n",
    "Q.7 Write a Python program to sort Python Dictionaries by Key or Value?"
   ]
  },
  {
   "cell_type": "code",
   "execution_count": 8,
   "id": "858c5571",
   "metadata": {},
   "outputs": [
    {
     "name": "stdout",
     "output_type": "stream",
     "text": [
      "{'arun': 3, 'rahul': 1, 'rohan': 2}\n"
     ]
    }
   ],
   "source": [
    "#sort Python Dictionaries by Key\n",
    "a={\"rahul\":1,\"arun\":3,\"rohan\":2}\n",
    "val={k:v for k,v in sorted(a.items(),key=lambda b: b[0])}\n",
    "print(val)"
   ]
  },
  {
   "cell_type": "code",
   "execution_count": 9,
   "id": "71904b91",
   "metadata": {},
   "outputs": [
    {
     "name": "stdout",
     "output_type": "stream",
     "text": [
      "{'rahul': 1, 'rohan': 2, 'arun': 3}\n"
     ]
    }
   ],
   "source": [
    "#sort Python Dictionaries by Vlaue\n",
    "a={\"rahul\":1,\"arun\":3,\"rohan\":2}\n",
    "val={k:v for k,v in sorted(a.items(),key=lambda b: b[1])}\n",
    "print(val)"
   ]
  }
 ],
 "metadata": {
  "kernelspec": {
   "display_name": "Python 3 (ipykernel)",
   "language": "python",
   "name": "python3"
  },
  "language_info": {
   "codemirror_mode": {
    "name": "ipython",
    "version": 3
   },
   "file_extension": ".py",
   "mimetype": "text/x-python",
   "name": "python",
   "nbconvert_exporter": "python",
   "pygments_lexer": "ipython3",
   "version": "3.9.12"
  }
 },
 "nbformat": 4,
 "nbformat_minor": 5
}
