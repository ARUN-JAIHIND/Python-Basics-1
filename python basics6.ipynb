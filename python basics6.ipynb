{
 "cells": [
  {
   "cell_type": "code",
   "execution_count": null,
   "id": "8223b3dd",
   "metadata": {},
   "outputs": [],
   "source": [
    "1. What are escape characters, and how do you use them?"
   ]
  },
  {
   "cell_type": "markdown",
   "id": "880bc23e",
   "metadata": {},
   "source": [
    "Answer:\n",
    "To insert characters that are unlawful in a string, use an escape character.\n",
    "\n",
    "An escape character is a backslash \\ followed by the character you want to insert.\n",
    "example:\n",
    "    \n",
    "\\' Single Quote\n",
    "\\\\ Backslash\n",
    "\\n New Line\n",
    "\\r Carriage Return\n",
    "\\t Tab\n",
    "\\b Backspace\n",
    "\\f Form Feed\n",
    "\\ooo Octal value\n",
    "\\xhh Hex value"
   ]
  },
  {
   "cell_type": "code",
   "execution_count": null,
   "id": "9ceb272b",
   "metadata": {},
   "outputs": [],
   "source": [
    "# To print his father's car"
   ]
  },
  {
   "cell_type": "code",
   "execution_count": 14,
   "id": "f9dd1f38",
   "metadata": {},
   "outputs": [
    {
     "name": "stdout",
     "output_type": "stream",
     "text": [
      "his father's car\n"
     ]
    }
   ],
   "source": [
    "# \\' Single Quote\n",
    "print('his father\\'s car') "
   ]
  },
  {
   "cell_type": "code",
   "execution_count": 3,
   "id": "d04bdf08",
   "metadata": {},
   "outputs": [
    {
     "name": "stdout",
     "output_type": "stream",
     "text": [
      "kashi\\varansi\n"
     ]
    }
   ],
   "source": [
    "# \\\\ Backslash\n",
    "print(\"kashi\\\\varansi\")"
   ]
  },
  {
   "cell_type": "code",
   "execution_count": null,
   "id": "ac6d2ed7",
   "metadata": {},
   "outputs": [],
   "source": [
    "2. What do the escape characters n and t stand for?\n",
    "Answer:\n",
    "    escape characters n used for new line.\n",
    "    escape characters t used for tab space."
   ]
  },
  {
   "cell_type": "code",
   "execution_count": 5,
   "id": "90984221",
   "metadata": {},
   "outputs": [
    {
     "name": "stdout",
     "output_type": "stream",
     "text": [
      "Tata has gained the first advantage move after bringing the all-new Nexon EV to the market.\n",
      "Currently, the brand has a major share of the electric vehicle market by a big fat margin.\n"
     ]
    }
   ],
   "source": [
    "# \\n New Line\n",
    "print(\"Tata has gained the first advantage move after bringing the all-new Nexon EV to the market.\\nCurrently, the brand has a major share of the electric vehicle market by a big fat margin.\")"
   ]
  },
  {
   "cell_type": "code",
   "execution_count": 7,
   "id": "e087bfc1",
   "metadata": {},
   "outputs": [
    {
     "name": "stdout",
     "output_type": "stream",
     "text": [
      "Tata has gained \tthe first advantage \tmove after bringing the all-new Nexon EV to the market\n"
     ]
    }
   ],
   "source": [
    "#\\t for tab \n",
    "print(\"Tata has gained \\tthe first advantage \\tmove after bringing the all-new Nexon EV to the market\")"
   ]
  },
  {
   "cell_type": "code",
   "execution_count": null,
   "id": "af8f7749",
   "metadata": {},
   "outputs": [],
   "source": [
    "3. What is the way to include backslash characters in a string?"
   ]
  },
  {
   "cell_type": "code",
   "execution_count": null,
   "id": "9a45e759",
   "metadata": {},
   "outputs": [],
   "source": [
    "Answer:\n",
    "    for type backslash character in a string you should write double number of backslash which you want to print.\n",
    "    ex:"
   ]
  },
  {
   "cell_type": "code",
   "execution_count": 8,
   "id": "c12cc983",
   "metadata": {},
   "outputs": [
    {
     "name": "stdout",
     "output_type": "stream",
     "text": [
      "Tata has gained the first \\ advantage move after bringing\n"
     ]
    }
   ],
   "source": [
    "#for print single backslash \n",
    "print(\"Tata has gained the first \\\\ advantage move after bringing\")"
   ]
  },
  {
   "cell_type": "code",
   "execution_count": 9,
   "id": "95b1e270",
   "metadata": {},
   "outputs": [
    {
     "name": "stdout",
     "output_type": "stream",
     "text": [
      "Tata has gained the first \\\\ advantage move after bringing\n"
     ]
    }
   ],
   "source": [
    "# for print double backslash\n",
    "print(\"Tata has gained the first \\\\\\\\ advantage move after bringing\")"
   ]
  },
  {
   "cell_type": "code",
   "execution_count": null,
   "id": "06ca05ae",
   "metadata": {},
   "outputs": [],
   "source": [
    "4. The string \"Howl's Moving Castle\" is a correct value. Why isn't the single quote character in the\n",
    "word Howl's not escaped a problem?\n",
    "Answer:\n",
    "    because double quote at starting and end of the string"
   ]
  },
  {
   "cell_type": "code",
   "execution_count": 10,
   "id": "13da51d5",
   "metadata": {},
   "outputs": [
    {
     "name": "stdout",
     "output_type": "stream",
     "text": [
      "Howl's Moving Castle\n"
     ]
    }
   ],
   "source": [
    "print(\"Howl's Moving Castle\")    "
   ]
  },
  {
   "cell_type": "code",
   "execution_count": null,
   "id": "c982afe7",
   "metadata": {},
   "outputs": [],
   "source": [
    "5. How do you write a string of newlines if you don't want to use the n character?\n",
    "Answer: mutiline string is use for a string of newlines if you don't want to use the n character.\n",
    "    example:"
   ]
  },
  {
   "cell_type": "code",
   "execution_count": 15,
   "id": "9104021c",
   "metadata": {},
   "outputs": [
    {
     "name": "stdout",
     "output_type": "stream",
     "text": [
      "Tata has gained the first advantage move after bringing the all-new Nexon EV to the market.Currently, the brand has a major share of the electric vehicle market by a big fat margin.\n"
     ]
    }
   ],
   "source": [
    "#use tripple quote for multiline string\n",
    "print('''Tata has gained the first advantage move after bringing the all-new Nexon EV to the market.Currently, the brand has a major share of the electric vehicle market by a big fat margin.''')"
   ]
  },
  {
   "cell_type": "code",
   "execution_count": null,
   "id": "7c1a94e1",
   "metadata": {},
   "outputs": [],
   "source": [
    "6. What are the values of the given expressions?\n",
    "'Hello, world!'[1]\n",
    "'Hello, world!'[0:5]\n",
    "'Hello, world!'[:5]\n",
    "'Hello, world!'[3:]"
   ]
  },
  {
   "cell_type": "code",
   "execution_count": 16,
   "id": "f1e612c0",
   "metadata": {},
   "outputs": [
    {
     "data": {
      "text/plain": [
       "'e'"
      ]
     },
     "execution_count": 16,
     "metadata": {},
     "output_type": "execute_result"
    }
   ],
   "source": [
    "'Hello, world!'[1]"
   ]
  },
  {
   "cell_type": "code",
   "execution_count": 17,
   "id": "903c7ca4",
   "metadata": {},
   "outputs": [
    {
     "data": {
      "text/plain": [
       "'Hello'"
      ]
     },
     "execution_count": 17,
     "metadata": {},
     "output_type": "execute_result"
    }
   ],
   "source": [
    "'Hello, world!'[0:5]"
   ]
  },
  {
   "cell_type": "code",
   "execution_count": 18,
   "id": "2afeea9e",
   "metadata": {},
   "outputs": [
    {
     "data": {
      "text/plain": [
       "'Hello'"
      ]
     },
     "execution_count": 18,
     "metadata": {},
     "output_type": "execute_result"
    }
   ],
   "source": [
    "'Hello, world!'[:5]"
   ]
  },
  {
   "cell_type": "code",
   "execution_count": 19,
   "id": "f1d66af8",
   "metadata": {},
   "outputs": [
    {
     "data": {
      "text/plain": [
       "'lo, world!'"
      ]
     },
     "execution_count": 19,
     "metadata": {},
     "output_type": "execute_result"
    }
   ],
   "source": [
    "'Hello, world!'[3:]"
   ]
  },
  {
   "cell_type": "code",
   "execution_count": null,
   "id": "00beafc9",
   "metadata": {},
   "outputs": [],
   "source": [
    "7. What are the values of the following expressions?\n",
    "'Hello'.upper()\n",
    "'Hello'.upper().isupper()\n",
    "'Hello'.upper().lower()\n"
   ]
  },
  {
   "cell_type": "code",
   "execution_count": 20,
   "id": "85a2d8be",
   "metadata": {},
   "outputs": [
    {
     "data": {
      "text/plain": [
       "'HELLO'"
      ]
     },
     "execution_count": 20,
     "metadata": {},
     "output_type": "execute_result"
    }
   ],
   "source": [
    "'Hello'.upper()"
   ]
  },
  {
   "cell_type": "code",
   "execution_count": 21,
   "id": "52c04747",
   "metadata": {},
   "outputs": [
    {
     "data": {
      "text/plain": [
       "True"
      ]
     },
     "execution_count": 21,
     "metadata": {},
     "output_type": "execute_result"
    }
   ],
   "source": [
    "'Hello'.upper().isupper()"
   ]
  },
  {
   "cell_type": "code",
   "execution_count": 22,
   "id": "3fb2561b",
   "metadata": {},
   "outputs": [
    {
     "data": {
      "text/plain": [
       "'hello'"
      ]
     },
     "execution_count": 22,
     "metadata": {},
     "output_type": "execute_result"
    }
   ],
   "source": [
    "'Hello'.upper().lower()"
   ]
  },
  {
   "cell_type": "code",
   "execution_count": null,
   "id": "edb6843f",
   "metadata": {},
   "outputs": [],
   "source": [
    "8. What are the values of the following expressions?\n",
    "'Remember, remember, the fifth of July.'.split()\n",
    "'-'.join('There can only one.'.split())\n"
   ]
  },
  {
   "cell_type": "code",
   "execution_count": 23,
   "id": "6a378a66",
   "metadata": {},
   "outputs": [
    {
     "data": {
      "text/plain": [
       "['Remember,', 'remember,', 'the', 'fifth', 'of', 'July.']"
      ]
     },
     "execution_count": 23,
     "metadata": {},
     "output_type": "execute_result"
    }
   ],
   "source": [
    "'Remember, remember, the fifth of July.'.split()"
   ]
  },
  {
   "cell_type": "code",
   "execution_count": 28,
   "id": "0f54dca7",
   "metadata": {},
   "outputs": [
    {
     "data": {
      "text/plain": [
       "'There-can-only-one.'"
      ]
     },
     "execution_count": 28,
     "metadata": {},
     "output_type": "execute_result"
    }
   ],
   "source": [
    "'-'.join('There can only one.'.split())"
   ]
  },
  {
   "cell_type": "code",
   "execution_count": null,
   "id": "b3a66c77",
   "metadata": {},
   "outputs": [],
   "source": [
    "9. What are the methods for right-justifying, left-justifying, and centering a string?"
   ]
  },
  {
   "cell_type": "code",
   "execution_count": null,
   "id": "195a938f",
   "metadata": {},
   "outputs": [],
   "source": [
    "right-justifying:string is align towards right \n",
    "syntax:\n",
    "    string.rjust(length, character)"
   ]
  },
  {
   "cell_type": "code",
   "execution_count": 30,
   "id": "b957fcbe",
   "metadata": {},
   "outputs": [],
   "source": [
    "st=\"raghav\""
   ]
  },
  {
   "cell_type": "code",
   "execution_count": 35,
   "id": "ff9c07b6",
   "metadata": {},
   "outputs": [
    {
     "data": {
      "text/plain": [
       "'####raghav'"
      ]
     },
     "execution_count": 35,
     "metadata": {},
     "output_type": "execute_result"
    }
   ],
   "source": [
    "st.rjust(10,\"#\")"
   ]
  },
  {
   "cell_type": "code",
   "execution_count": null,
   "id": "a50ab7e1",
   "metadata": {},
   "outputs": [],
   "source": [
    "left-justifying:string is align towards right \n",
    "    syntax:string.ljust(length, character)"
   ]
  },
  {
   "cell_type": "code",
   "execution_count": 36,
   "id": "59e6635a",
   "metadata": {},
   "outputs": [
    {
     "data": {
      "text/plain": [
       "'raghav####'"
      ]
     },
     "execution_count": 36,
     "metadata": {},
     "output_type": "execute_result"
    }
   ],
   "source": [
    "st.ljust(10,\"#\")"
   ]
  },
  {
   "cell_type": "code",
   "execution_count": null,
   "id": "9bb3444f",
   "metadata": {},
   "outputs": [],
   "source": [
    "center: string is align towards center"
   ]
  },
  {
   "cell_type": "code",
   "execution_count": 37,
   "id": "24ed024c",
   "metadata": {},
   "outputs": [
    {
     "data": {
      "text/plain": [
       "'##raghav##'"
      ]
     },
     "execution_count": 37,
     "metadata": {},
     "output_type": "execute_result"
    }
   ],
   "source": [
    "st.center(10,\"#\")"
   ]
  },
  {
   "cell_type": "code",
   "execution_count": null,
   "id": "2b86a328",
   "metadata": {},
   "outputs": [],
   "source": [
    "10. What is the best way to remove whitespace characters from the start or end?\n",
    "Answer:\n",
    "    string.strip()"
   ]
  },
  {
   "cell_type": "code",
   "execution_count": 38,
   "id": "b08fcbb2",
   "metadata": {},
   "outputs": [],
   "source": [
    "a=\"   asdfg   \""
   ]
  },
  {
   "cell_type": "code",
   "execution_count": 39,
   "id": "fa502953",
   "metadata": {},
   "outputs": [
    {
     "data": {
      "text/plain": [
       "'asdfg'"
      ]
     },
     "execution_count": 39,
     "metadata": {},
     "output_type": "execute_result"
    }
   ],
   "source": [
    "a.strip()"
   ]
  },
  {
   "cell_type": "code",
   "execution_count": null,
   "id": "40bd9e72",
   "metadata": {},
   "outputs": [],
   "source": []
  }
 ],
 "metadata": {
  "kernelspec": {
   "display_name": "Python 3 (ipykernel)",
   "language": "python",
   "name": "python3"
  },
  "language_info": {
   "codemirror_mode": {
    "name": "ipython",
    "version": 3
   },
   "file_extension": ".py",
   "mimetype": "text/x-python",
   "name": "python",
   "nbconvert_exporter": "python",
   "pygments_lexer": "ipython3",
   "version": "3.9.13"
  }
 },
 "nbformat": 4,
 "nbformat_minor": 5
}
