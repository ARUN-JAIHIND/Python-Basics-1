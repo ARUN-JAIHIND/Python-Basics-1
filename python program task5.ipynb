{
 "cells": [
  {
   "cell_type": "markdown",
   "id": "69c9dff7",
   "metadata": {},
   "source": [
    "Q.1 Write a Python Program to Find LCM?"
   ]
  },
  {
   "cell_type": "code",
   "execution_count": 5,
   "id": "e609bb38",
   "metadata": {},
   "outputs": [
    {
     "name": "stdout",
     "output_type": "stream",
     "text": [
      "Enter number_126\n",
      "enter number_230\n",
      "LCM of 26 and 30 is 390\n"
     ]
    }
   ],
   "source": [
    "num1=int(input(\"Enter number_1\"))\n",
    "num2=int(input(\"enter number_2\"))\n",
    "if num1>num2:\n",
    "    higher=num1\n",
    "    lower=num2\n",
    "else:\n",
    "    higher=num2\n",
    "    lower=num1\n",
    "temp=higher\n",
    "while True:\n",
    "    if higher%num1==0 and higher%num2==0:\n",
    "        lcm=higher\n",
    "        break\n",
    "    else:\n",
    "        higher+=temp\n",
    "print(f\"LCM of {num1} and {num2} is {lcm}\")"
   ]
  },
  {
   "cell_type": "markdown",
   "id": "5c25b303",
   "metadata": {},
   "source": [
    "Q2. Write a Python Program to Find HCF?"
   ]
  },
  {
   "cell_type": "code",
   "execution_count": 8,
   "id": "7c3e2467",
   "metadata": {},
   "outputs": [
    {
     "name": "stdout",
     "output_type": "stream",
     "text": [
      "Enter number_1256\n",
      "enter number_287\n",
      "HCF of 256 and 87 is 1\n"
     ]
    }
   ],
   "source": [
    "num1=int(input(\"Enter number_1\"))\n",
    "num2=int(input(\"enter number_2\"))\n",
    "if num1>num2:\n",
    "    higher=num1\n",
    "    lower=num2\n",
    "else:\n",
    "    higher=num2\n",
    "    lower=num1\n",
    "for i in range(1,lower+1):\n",
    "    if higher%i==0 and lower%i==0:\n",
    "        hcf=i\n",
    "print(f\"HCF of {num1} and {num2} is {hcf}\")"
   ]
  },
  {
   "cell_type": "code",
   "execution_count": null,
   "id": "df307c50",
   "metadata": {},
   "outputs": [],
   "source": [
    "Q3. Write a Python Program to Convert Decimal to Binary, Octal and Hexadecimal?"
   ]
  },
  {
   "cell_type": "code",
   "execution_count": 10,
   "id": "1de10f3c",
   "metadata": {},
   "outputs": [
    {
     "name": "stdout",
     "output_type": "stream",
     "text": [
      "enter decimal No.25\n",
      "the binar generation of entered no. is \n",
      "11001"
     ]
    }
   ],
   "source": [
    "#Decimal to binary\n",
    "num=int(input(\"enter decimal No.\"))\n",
    "binary=[]\n",
    "while num>=1:\n",
    "    val=num%2\n",
    "    binary.append(val)\n",
    "    num=num//2\n",
    "binary.reverse()\n",
    "print(\"the binar generation of entered no. is \")\n",
    "for i in binary:\n",
    "    print(i,end='')"
   ]
  },
  {
   "cell_type": "code",
   "execution_count": 11,
   "id": "05b52e3c",
   "metadata": {},
   "outputs": [
    {
     "name": "stdout",
     "output_type": "stream",
     "text": [
      "enter decimal No.324\n",
      "the octal generation of entered no. is \n",
      "405"
     ]
    }
   ],
   "source": [
    "#Decimal to octal\n",
    "num=int(input(\"enter decimal No.\"))\n",
    "octal=[]\n",
    "while num>=1:\n",
    "    val=num%8\n",
    "    octal.append(val)\n",
    "    num=num//8\n",
    "temp.reverse()\n",
    "print(\"the octal generation of entered no. is \")\n",
    "for i in octal:\n",
    "    print(i,end='')"
   ]
  },
  {
   "cell_type": "code",
   "execution_count": 13,
   "id": "a303beef",
   "metadata": {},
   "outputs": [
    {
     "name": "stdout",
     "output_type": "stream",
     "text": [
      "enter decimal No.500\n",
      "The Hexadecimal generation of entered no. is \n",
      "1F4"
     ]
    }
   ],
   "source": [
    "#Decimal to Hexadecimal\n",
    "num=int(input(\"enter decimal No.\"))\n",
    "hexa=[]\n",
    "while num>=1:\n",
    "    val=num%16\n",
    "    hexa.append(val)\n",
    "    num=num//16\n",
    "hexa.reverse()\n",
    "print(\"The Hexadecimal generation of entered no. is \")\n",
    "for i in hexa:\n",
    "    if i==10:\n",
    "        print(\"A\",end='')\n",
    "    elif i==11:\n",
    "        print(\"B\",end='')\n",
    "    elif i==12:\n",
    "        print(\"c\",end='')\n",
    "    elif i==13:\n",
    "        print(\"D\",end='')\n",
    "    elif i==14:\n",
    "        print(\"E\",end='')\n",
    "    elif i==15:\n",
    "        print(\"F\",end='')\n",
    "    else:\n",
    "        print(i,end='')"
   ]
  },
  {
   "cell_type": "code",
   "execution_count": null,
   "id": "b4c394d5",
   "metadata": {},
   "outputs": [],
   "source": [
    "Q4. Write a Python Program To Find ASCII value of a character?\n"
   ]
  },
  {
   "cell_type": "code",
   "execution_count": 16,
   "id": "031f29f2",
   "metadata": {},
   "outputs": [
    {
     "name": "stdout",
     "output_type": "stream",
     "text": [
      "enter character which you want to check ASCII value A\n",
      " ASCII value of A is 65\n"
     ]
    }
   ],
   "source": [
    "c1=input(\"enter character which you want to check ASCII value \")\n",
    "asc=ord(c1)\n",
    "print(f\" ASCII value of {c1} is {asc}\")"
   ]
  },
  {
   "cell_type": "code",
   "execution_count": null,
   "id": "bec01ef3",
   "metadata": {},
   "outputs": [],
   "source": [
    "Q5. Write a Python Program to Make a Simple Calculator with 4 basic mathematical operations?"
   ]
  },
  {
   "cell_type": "code",
   "execution_count": 17,
   "id": "854237f1",
   "metadata": {},
   "outputs": [
    {
     "name": "stdout",
     "output_type": "stream",
     "text": [
      "enter numbe_1 50\n",
      "enter number_2 40\n",
      "type operation add/sub/multiply/division sub\n",
      "subtraction of num1 and num2 is 10\n"
     ]
    }
   ],
   "source": [
    "num1=int(input(\"enter numbe_1 \"))\n",
    "num2=int(input(\"enter number_2 \"))\n",
    "operation=input(\"type operation add/sub/multiply/division \")\n",
    "operation=operation.lower()\n",
    "if operation==\"add\":\n",
    "    add=num1+num2\n",
    "    print(f\"addition of num1 and num2 is {add}\")\n",
    "elif operation==\"sub\":\n",
    "    sub=num1-num2\n",
    "    print(f\"subtraction of num1 and num2 is {sub}\")\n",
    "elif operation==\"multiply\":\n",
    "    mul=num1*num2\n",
    "    print(f\"multiplication of num1 and num2 is {mul}\")\n",
    "elif operation==\"division\":\n",
    "    div=num1/num2\n",
    "    print(f\"multiplication of num1 and num2 is {div}\")\n",
    "else:\n",
    "    print(\"Type correctly\")"
   ]
  },
  {
   "cell_type": "code",
   "execution_count": null,
   "id": "169b1b35",
   "metadata": {},
   "outputs": [],
   "source": []
  }
 ],
 "metadata": {
  "kernelspec": {
   "display_name": "Python 3 (ipykernel)",
   "language": "python",
   "name": "python3"
  },
  "language_info": {
   "codemirror_mode": {
    "name": "ipython",
    "version": 3
   },
   "file_extension": ".py",
   "mimetype": "text/x-python",
   "name": "python",
   "nbconvert_exporter": "python",
   "pygments_lexer": "ipython3",
   "version": "3.9.12"
  }
 },
 "nbformat": 4,
 "nbformat_minor": 5
}
