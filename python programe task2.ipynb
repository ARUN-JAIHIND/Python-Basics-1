{
 "cells": [
  {
   "cell_type": "markdown",
   "id": "deb55684",
   "metadata": {},
   "source": [
    "Q.1 Write a Python program to convert kilometers to miles?\n",
    "answer:"
   ]
  },
  {
   "cell_type": "code",
   "execution_count": 4,
   "id": "d2b3dbbb",
   "metadata": {},
   "outputs": [
    {
     "name": "stdout",
     "output_type": "stream",
     "text": [
      "Enter your distance in Kilometers 45\n",
      "your  distance is converted into miles 27.96170355\n"
     ]
    }
   ],
   "source": [
    "dist=int(input(\"Enter your distance in Kilometers \"))\n",
    "miles=0.62137119*dist\n",
    "print(f\"your  distance is converted into miles {miles}\")"
   ]
  },
  {
   "cell_type": "code",
   "execution_count": null,
   "id": "9cfbad21",
   "metadata": {},
   "outputs": [],
   "source": [
    "Q.2 Write a Python program to convert Celsius to Fahrenheit?\n",
    "answer:"
   ]
  },
  {
   "cell_type": "code",
   "execution_count": 7,
   "id": "58ce1496",
   "metadata": {},
   "outputs": [
    {
     "name": "stdout",
     "output_type": "stream",
     "text": [
      "Enter temperature into celsius 100\n",
      "Temperature in Farhenheit is 212.0\n"
     ]
    }
   ],
   "source": [
    "temp=int(input(\"Enter temperature into celsius \"))\n",
    "far=1.8*temp+32\n",
    "print(f\"Temperature in Farhenheit is {far}\")"
   ]
  },
  {
   "cell_type": "code",
   "execution_count": null,
   "id": "2ced2db0",
   "metadata": {},
   "outputs": [],
   "source": [
    "Q.3 Write a Python program to display calendar?\n",
    "Answer:"
   ]
  },
  {
   "cell_type": "code",
   "execution_count": 10,
   "id": "6375439d",
   "metadata": {},
   "outputs": [
    {
     "name": "stdout",
     "output_type": "stream",
     "text": [
      "enter year2022\n",
      "                                  2022\n",
      "\n",
      "      January                   February                   March\n",
      "Mo Tu We Th Fr Sa Su      Mo Tu We Th Fr Sa Su      Mo Tu We Th Fr Sa Su\n",
      "                1  2          1  2  3  4  5  6          1  2  3  4  5  6\n",
      " 3  4  5  6  7  8  9       7  8  9 10 11 12 13       7  8  9 10 11 12 13\n",
      "10 11 12 13 14 15 16      14 15 16 17 18 19 20      14 15 16 17 18 19 20\n",
      "17 18 19 20 21 22 23      21 22 23 24 25 26 27      21 22 23 24 25 26 27\n",
      "24 25 26 27 28 29 30      28                        28 29 30 31\n",
      "31\n",
      "\n",
      "       April                      May                       June\n",
      "Mo Tu We Th Fr Sa Su      Mo Tu We Th Fr Sa Su      Mo Tu We Th Fr Sa Su\n",
      "             1  2  3                         1             1  2  3  4  5\n",
      " 4  5  6  7  8  9 10       2  3  4  5  6  7  8       6  7  8  9 10 11 12\n",
      "11 12 13 14 15 16 17       9 10 11 12 13 14 15      13 14 15 16 17 18 19\n",
      "18 19 20 21 22 23 24      16 17 18 19 20 21 22      20 21 22 23 24 25 26\n",
      "25 26 27 28 29 30         23 24 25 26 27 28 29      27 28 29 30\n",
      "                          30 31\n",
      "\n",
      "        July                     August                  September\n",
      "Mo Tu We Th Fr Sa Su      Mo Tu We Th Fr Sa Su      Mo Tu We Th Fr Sa Su\n",
      "             1  2  3       1  2  3  4  5  6  7                1  2  3  4\n",
      " 4  5  6  7  8  9 10       8  9 10 11 12 13 14       5  6  7  8  9 10 11\n",
      "11 12 13 14 15 16 17      15 16 17 18 19 20 21      12 13 14 15 16 17 18\n",
      "18 19 20 21 22 23 24      22 23 24 25 26 27 28      19 20 21 22 23 24 25\n",
      "25 26 27 28 29 30 31      29 30 31                  26 27 28 29 30\n",
      "\n",
      "      October                   November                  December\n",
      "Mo Tu We Th Fr Sa Su      Mo Tu We Th Fr Sa Su      Mo Tu We Th Fr Sa Su\n",
      "                1  2          1  2  3  4  5  6                1  2  3  4\n",
      " 3  4  5  6  7  8  9       7  8  9 10 11 12 13       5  6  7  8  9 10 11\n",
      "10 11 12 13 14 15 16      14 15 16 17 18 19 20      12 13 14 15 16 17 18\n",
      "17 18 19 20 21 22 23      21 22 23 24 25 26 27      19 20 21 22 23 24 25\n",
      "24 25 26 27 28 29 30      28 29 30                  26 27 28 29 30 31\n",
      "31\n",
      "\n"
     ]
    }
   ],
   "source": [
    "import calendar\n",
    "year=int(input(\"enter year\"))\n",
    "print(calendar.calendar(year))"
   ]
  },
  {
   "cell_type": "code",
   "execution_count": 13,
   "id": "f329d4d5",
   "metadata": {},
   "outputs": [
    {
     "name": "stdout",
     "output_type": "stream",
     "text": [
      "enter year2022\n",
      "enter month in mm format 08\n",
      "    August 2022\n",
      "Mo Tu We Th Fr Sa Su\n",
      " 1  2  3  4  5  6  7\n",
      " 8  9 10 11 12 13 14\n",
      "15 16 17 18 19 20 21\n",
      "22 23 24 25 26 27 28\n",
      "29 30 31\n",
      "\n"
     ]
    }
   ],
   "source": [
    "import calendar\n",
    "year=int(input(\"enter year\"))\n",
    "month=int(input(\"enter month in mm format \"))\n",
    "print(calendar.month(year,month))"
   ]
  },
  {
   "cell_type": "markdown",
   "id": "5c1e7c5a",
   "metadata": {},
   "source": [
    "Q.4 Write a Python program to solve quadratic equation?\n",
    "Answer:"
   ]
  },
  {
   "cell_type": "code",
   "execution_count": 14,
   "id": "4456132b",
   "metadata": {},
   "outputs": [
    {
     "name": "stdout",
     "output_type": "stream",
     "text": [
      "Quadratic equation Format is  ax2 + bx + c\n",
      "enter value of a 1\n",
      "enter value of b 4\n",
      "enter value of c 5\n",
      "Roots of equation is complex\n",
      "Root_1 -2.0+2.0i \n",
      "Root_2 -2.0-2.0i\n"
     ]
    }
   ],
   "source": [
    "import math\n",
    "print(\"Quadratic equation Format is  ax2 + bx + c\")\n",
    "a=int(input(\"enter value of a \"))\n",
    "b=int(input(\"enter value of b \"))\n",
    "c=int(input(\"enter value of c \"))\n",
    "eqtype=(b*b)-(4*a*c)\n",
    "vsqrt=math.sqrt(abs(eqtype))\n",
    "if eqtype>0:\n",
    "    print(\"Roots of equation is real and different\")\n",
    "    sol1=((-b)+vsqrt)/(2*a)\n",
    "    sol2=((-b)-vsqrt)/(2*a)\n",
    "    print(f\"Root_1 {sol1} and Root_2 {sol2}\")\n",
    "elif eqtype==0:\n",
    "    print(\"Roots or equation is real and same\")\n",
    "    sol1=(-b)/(2*a)\n",
    "    print(f\"Root is {sol1}\")\n",
    "else:\n",
    "    print(\"Roots of equation is complex\")\n",
    "    sol=(-b)/(2*a)\n",
    "    print(f\"Root_1 {sol}+{vsqrt}i \\nRoot_2 {sol}-{vsqrt}i\")"
   ]
  },
  {
   "cell_type": "markdown",
   "id": "8c6f4f9f",
   "metadata": {},
   "source": [
    "Q.5 Write a Python program to swap two variables without temp variable?\n",
    "Answer:"
   ]
  },
  {
   "cell_type": "code",
   "execution_count": 18,
   "id": "e3ca8789",
   "metadata": {},
   "outputs": [
    {
     "name": "stdout",
     "output_type": "stream",
     "text": [
      "enter First variable 40\n",
      "enter second variable 50\n",
      "Your entered variable_1 is 40 and variable_2 is 50\n",
      "your variable has  swaped variable_1 is 50 and varibale_2 is 40\n"
     ]
    }
   ],
   "source": [
    "a=int(input(\"enter First variable \"))\n",
    "b=int(input(\"enter second variable \"))\n",
    "print(f\"Your entered variable_1 is {a} and variable_2 is {b}\")\n",
    "a,b=b,a\n",
    "print(f\"your variable has  swaped variable_1 is {a} and varibale_2 is {b}\")"
   ]
  },
  {
   "cell_type": "code",
   "execution_count": null,
   "id": "0c23f547",
   "metadata": {},
   "outputs": [],
   "source": []
  }
 ],
 "metadata": {
  "kernelspec": {
   "display_name": "Python 3 (ipykernel)",
   "language": "python",
   "name": "python3"
  },
  "language_info": {
   "codemirror_mode": {
    "name": "ipython",
    "version": 3
   },
   "file_extension": ".py",
   "mimetype": "text/x-python",
   "name": "python",
   "nbconvert_exporter": "python",
   "pygments_lexer": "ipython3",
   "version": "3.9.12"
  }
 },
 "nbformat": 4,
 "nbformat_minor": 5
}
