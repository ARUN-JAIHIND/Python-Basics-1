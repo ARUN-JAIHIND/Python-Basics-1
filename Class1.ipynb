{
 "cells": [
  {
   "cell_type": "code",
   "execution_count": 2,
   "id": "12cf6137",
   "metadata": {},
   "outputs": [],
   "source": [
    "class employee:\n",
    "    def __init__(self,name,surname,email,year_of_birth):\n",
    "        self.name = name\n",
    "        self.surname = surname\n",
    "        self.email = email\n",
    "        self.year_of_birth = year_of_birth"
   ]
  },
  {
   "cell_type": "markdown",
   "id": "e06110be",
   "metadata": {},
   "source": [
    "__init__ is constructor and self is the pointer.\n",
    "self is not a reserve keyword in python\n",
    "inplace of self in the above proogram you can write any name which in not a reserve keyword for python"
   ]
  },
  {
   "cell_type": "code",
   "execution_count": 3,
   "id": "ac462bea",
   "metadata": {},
   "outputs": [],
   "source": [
    "a = employee(\"yash\",\"kumar\",\"yash.k@gamil.co\",1971)\n",
    "b=employee(\"Paras\",\"rathi\",\"paras.rar@gamil.com\",1977)"
   ]
  },
  {
   "cell_type": "code",
   "execution_count": 4,
   "id": "d19bad88",
   "metadata": {},
   "outputs": [
    {
     "name": "stdout",
     "output_type": "stream",
     "text": [
      "yash\n"
     ]
    }
   ],
   "source": [
    "print(a.name)"
   ]
  },
  {
   "cell_type": "code",
   "execution_count": 5,
   "id": "48341ab2",
   "metadata": {},
   "outputs": [
    {
     "name": "stdout",
     "output_type": "stream",
     "text": [
      "paras.rar@gamil.com\n"
     ]
    }
   ],
   "source": [
    "print(b.email)"
   ]
  },
  {
   "cell_type": "code",
   "execution_count": 6,
   "id": "7b741b63",
   "metadata": {},
   "outputs": [],
   "source": [
    "class worker:\n",
    "    def __init__(ar,name,email,yob):\n",
    "        ar.name1=name\n",
    "        ar.email=email\n",
    "        ar.yob=yob\n",
    "    def age(ar,current_yr):\n",
    "        return current_yr - ar.yob\n",
    "c= worker(\"arun\",\"arun.g@gmail.com\",2000)\n"
   ]
  },
  {
   "cell_type": "markdown",
   "id": "43c09189",
   "metadata": {},
   "source": [
    "Need not same name in the palenthesis is same as pointer with dot in the class "
   ]
  },
  {
   "cell_type": "code",
   "execution_count": 7,
   "id": "a77757d3",
   "metadata": {},
   "outputs": [
    {
     "name": "stdout",
     "output_type": "stream",
     "text": [
      "22\n"
     ]
    }
   ],
   "source": [
    "print(c.age(2022))"
   ]
  },
  {
   "cell_type": "code",
   "execution_count": 8,
   "id": "9e355a6b",
   "metadata": {},
   "outputs": [],
   "source": [
    "class person1:\n",
    "    def __int___(self,name,email,place):\n",
    "        self.name=name\n",
    "        self.email=email\n",
    "        self.place=place\n",
    "    def __init__(self,name,place):\n",
    "        self.name=name\n",
    "        self.place=place\n"
   ]
  },
  {
   "cell_type": "markdown",
   "id": "dbc07184",
   "metadata": {},
   "source": [
    "Last one  __init__ is considered in the python class  if two or more init is in the class"
   ]
  },
  {
   "cell_type": "code",
   "execution_count": 9,
   "id": "dffa4bfd",
   "metadata": {},
   "outputs": [
    {
     "ename": "TypeError",
     "evalue": "__init__() takes 3 positional arguments but 4 were given",
     "output_type": "error",
     "traceback": [
      "\u001b[1;31m---------------------------------------------------------------------------\u001b[0m",
      "\u001b[1;31mTypeError\u001b[0m                                 Traceback (most recent call last)",
      "\u001b[1;32m~\\AppData\\Local\\Temp\\ipykernel_16060\\3915507523.py\u001b[0m in \u001b[0;36m<module>\u001b[1;34m\u001b[0m\n\u001b[1;32m----> 1\u001b[1;33m \u001b[0md\u001b[0m\u001b[1;33m=\u001b[0m\u001b[0mperson1\u001b[0m\u001b[1;33m(\u001b[0m\u001b[1;34m\"baba\"\u001b[0m\u001b[1;33m,\u001b[0m\u001b[1;34m\"ba.ba@gamil\"\u001b[0m\u001b[1;33m,\u001b[0m\u001b[1;34m\"lucknow\"\u001b[0m\u001b[1;33m)\u001b[0m\u001b[1;33m\u001b[0m\u001b[1;33m\u001b[0m\u001b[0m\n\u001b[0m",
      "\u001b[1;31mTypeError\u001b[0m: __init__() takes 3 positional arguments but 4 were given"
     ]
    }
   ],
   "source": [
    "d=person1(\"baba\",\"ba.ba@gamil\",\"lucknow\")"
   ]
  },
  {
   "cell_type": "code",
   "execution_count": 11,
   "id": "796121b1",
   "metadata": {},
   "outputs": [],
   "source": [
    "e=person1(\"chiraa\",\"madurai\")"
   ]
  },
  {
   "cell_type": "code",
   "execution_count": 12,
   "id": "b9f86eae",
   "metadata": {},
   "outputs": [
    {
     "name": "stdout",
     "output_type": "stream",
     "text": [
      "madurai\n"
     ]
    }
   ],
   "source": [
    "print(e.place)"
   ]
  },
  {
   "cell_type": "code",
   "execution_count": 19,
   "id": "5cc41f1b",
   "metadata": {},
   "outputs": [],
   "source": [
    "class worker2:\n",
    "    def age (self, current_yr, yob):\n",
    "        return current_yr - yob\n",
    "    def email_id (self, email_id):\n",
    "        print(\"Enter your Email_id\")\n",
    "    def ask_name (self):\n",
    "        name= input(\"Tell me ur name\")\n",
    "    def ask_dob(self):\n",
    "        dob=input(\"tell me ur dob\")\n",
    "        return dob"
   ]
  },
  {
   "cell_type": "code",
   "execution_count": 21,
   "id": "0fb90f2b",
   "metadata": {},
   "outputs": [
    {
     "name": "stdout",
     "output_type": "stream",
     "text": [
      "Tell me ur namehappy\n",
      "None\n"
     ]
    }
   ],
   "source": [
    "g=worker2()\n",
    "print(g.ask_name())"
   ]
  },
  {
   "cell_type": "code",
   "execution_count": 22,
   "id": "7aa4aa26",
   "metadata": {},
   "outputs": [
    {
     "name": "stdout",
     "output_type": "stream",
     "text": [
      "tell me ur dob5551\n",
      "5551\n"
     ]
    }
   ],
   "source": [
    "print(g.ask_dob())"
   ]
  },
  {
   "cell_type": "code",
   "execution_count": 23,
   "id": "7aa90509",
   "metadata": {},
   "outputs": [
    {
     "ename": "TypeError",
     "evalue": "email_id() missing 1 required positional argument: 'email_id'",
     "output_type": "error",
     "traceback": [
      "\u001b[1;31m---------------------------------------------------------------------------\u001b[0m",
      "\u001b[1;31mTypeError\u001b[0m                                 Traceback (most recent call last)",
      "\u001b[1;32m~\\AppData\\Local\\Temp\\ipykernel_16060\\4157295853.py\u001b[0m in \u001b[0;36m<module>\u001b[1;34m\u001b[0m\n\u001b[1;32m----> 1\u001b[1;33m \u001b[0mprint\u001b[0m\u001b[1;33m(\u001b[0m\u001b[0mg\u001b[0m\u001b[1;33m.\u001b[0m\u001b[0memail_id\u001b[0m\u001b[1;33m(\u001b[0m\u001b[1;33m)\u001b[0m\u001b[1;33m)\u001b[0m\u001b[1;33m\u001b[0m\u001b[1;33m\u001b[0m\u001b[0m\n\u001b[0m",
      "\u001b[1;31mTypeError\u001b[0m: email_id() missing 1 required positional argument: 'email_id'"
     ]
    }
   ],
   "source": [
    "print(g.email_id())"
   ]
  },
  {
   "cell_type": "code",
   "execution_count": 24,
   "id": "b8fbbb13",
   "metadata": {},
   "outputs": [
    {
     "name": "stdout",
     "output_type": "stream",
     "text": [
      "Enter your Email_id\n",
      "None\n"
     ]
    }
   ],
   "source": [
    "print(g.email_id(\"chat.gpta@gmail\"))"
   ]
  },
  {
   "cell_type": "code",
   "execution_count": null,
   "id": "aa3ab2e2",
   "metadata": {},
   "outputs": [],
   "source": []
  }
 ],
 "metadata": {
  "kernelspec": {
   "display_name": "Python 3 (ipykernel)",
   "language": "python",
   "name": "python3"
  },
  "language_info": {
   "codemirror_mode": {
    "name": "ipython",
    "version": 3
   },
   "file_extension": ".py",
   "mimetype": "text/x-python",
   "name": "python",
   "nbconvert_exporter": "python",
   "pygments_lexer": "ipython3",
   "version": "3.9.13"
  }
 },
 "nbformat": 4,
 "nbformat_minor": 5
}
