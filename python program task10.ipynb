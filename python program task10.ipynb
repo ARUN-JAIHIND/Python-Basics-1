{
 "cells": [
  {
   "cell_type": "markdown",
   "id": "499f8aa7",
   "metadata": {},
   "source": [
    "Q1. Write a Python program to find sum of elements in list?"
   ]
  },
  {
   "cell_type": "code",
   "execution_count": 3,
   "id": "53a3d93e",
   "metadata": {},
   "outputs": [
    {
     "name": "stdout",
     "output_type": "stream",
     "text": [
      "21\n"
     ]
    }
   ],
   "source": [
    "import functools\n",
    "l=[1,2,3,4,5,6]\n",
    "result=functools.reduce((lambda x,y:x+y),l)\n",
    "print(result)"
   ]
  },
  {
   "cell_type": "markdown",
   "id": "9b9aca50",
   "metadata": {},
   "source": [
    "\n",
    "Q2. Write a Python program to Multiply all numbers in the list?\n"
   ]
  },
  {
   "cell_type": "code",
   "execution_count": 5,
   "id": "25ab12b0",
   "metadata": {},
   "outputs": [
    {
     "name": "stdout",
     "output_type": "stream",
     "text": [
      "24000\n"
     ]
    }
   ],
   "source": [
    "a=[20,4,10,5,6]\n",
    "def multi (b):\n",
    "    multiplication=1\n",
    "    for i in b:\n",
    "        multiplication*=i\n",
    "    return multiplication\n",
    "print(multi(a))"
   ]
  },
  {
   "cell_type": "markdown",
   "id": "ceeb65db",
   "metadata": {},
   "source": [
    "\n",
    "Q3. Write a Python program to find smallest number in a list?"
   ]
  },
  {
   "cell_type": "code",
   "execution_count": 18,
   "id": "feb648b4",
   "metadata": {},
   "outputs": [
    {
     "name": "stdout",
     "output_type": "stream",
     "text": [
      "The smallest number in a list is  3\n"
     ]
    }
   ],
   "source": [
    "b=[9,31,3,5,7,8,44]\n",
    "result=min(b)\n",
    "print(\"The smallest number in a list is \",result)"
   ]
  },
  {
   "cell_type": "markdown",
   "id": "4a9598c6",
   "metadata": {},
   "source": [
    "\n",
    "Q.4 Write a Python program to find largest number in a list?\n"
   ]
  },
  {
   "cell_type": "code",
   "execution_count": 19,
   "id": "7d0d9aaf",
   "metadata": {},
   "outputs": [
    {
     "name": "stdout",
     "output_type": "stream",
     "text": [
      "The largest number in a list is  44\n"
     ]
    }
   ],
   "source": [
    "b=[9,31,3,5,7,8,44]\n",
    "result=max(b)\n",
    "print(\"The largest number in a list is \",result)"
   ]
  },
  {
   "cell_type": "markdown",
   "id": "ff235eb9",
   "metadata": {},
   "source": [
    "\n",
    "Q.5 Write a Python program to find second largest number in a list?"
   ]
  },
  {
   "cell_type": "code",
   "execution_count": 21,
   "id": "b7cdec08",
   "metadata": {},
   "outputs": [
    {
     "name": "stdout",
     "output_type": "stream",
     "text": [
      "second largest number in a list is   31\n"
     ]
    }
   ],
   "source": [
    "b=[9,31,3,5,7,8,44]\n",
    "b.sort()\n",
    "result=b[(len(b)-2)]\n",
    "print(\"second largest number in a list is  \",result)"
   ]
  },
  {
   "cell_type": "markdown",
   "id": "24ef036b",
   "metadata": {},
   "source": [
    "\n",
    "Q.6 Write a Python program to find N largest elements from a list?"
   ]
  },
  {
   "cell_type": "code",
   "execution_count": 23,
   "id": "68c61c1a",
   "metadata": {},
   "outputs": [
    {
     "name": "stdout",
     "output_type": "stream",
     "text": [
      "enter the value of N i.e N largest elements from a list3\n",
      "3 largest elements from a list is 9\n"
     ]
    }
   ],
   "source": [
    "b=[9,31,3,5,7,8,44]\n",
    "n=int(input(\"enter the value of N i.e N largest elements from a list\"))\n",
    "b.sort()\n",
    "result=b[(len(b)-n)]\n",
    "print(f\"{n} largest elements from a list is {result}\")"
   ]
  },
  {
   "cell_type": "markdown",
   "id": "6ed5bbdb",
   "metadata": {},
   "source": [
    "\n",
    "Q.7 Write a Python program to print even numbers in a list?"
   ]
  },
  {
   "cell_type": "code",
   "execution_count": 24,
   "id": "15ae0210",
   "metadata": {},
   "outputs": [
    {
     "name": "stdout",
     "output_type": "stream",
     "text": [
      "[8, 44]\n"
     ]
    }
   ],
   "source": [
    "b=[9,31,3,5,7,8,44]\n",
    "l1=list(filter(lambda x:x%2==0,b))\n",
    "print(l1)"
   ]
  },
  {
   "cell_type": "markdown",
   "id": "cc1c1f76",
   "metadata": {},
   "source": [
    "\n",
    "Q.8 Write a Python program to print odd numbers in a List?"
   ]
  },
  {
   "cell_type": "code",
   "execution_count": 25,
   "id": "b6b25202",
   "metadata": {},
   "outputs": [
    {
     "name": "stdout",
     "output_type": "stream",
     "text": [
      "[9, 31, 3, 5, 7]\n"
     ]
    }
   ],
   "source": [
    "b=[9,31,3,5,7,8,44]\n",
    "l2=list(filter(lambda x:x%2!=0,b))\n",
    "print(l2)"
   ]
  },
  {
   "cell_type": "code",
   "execution_count": null,
   "id": "2bf842cc",
   "metadata": {},
   "outputs": [],
   "source": [
    "\n",
    "Q.9 Write a Python program to Remove empty List from List?"
   ]
  },
  {
   "cell_type": "code",
   "execution_count": 27,
   "id": "085a800a",
   "metadata": {},
   "outputs": [
    {
     "name": "stdout",
     "output_type": "stream",
     "text": [
      "[1, 3, 4, 6]\n"
     ]
    }
   ],
   "source": [
    "l1=[]\n",
    "l=[1,3,[],4,[],6]\n",
    "for i in l:\n",
    "    if i==[]:\n",
    "        pass\n",
    "    else:\n",
    "        l1.append(i)\n",
    "print(l1)"
   ]
  },
  {
   "cell_type": "markdown",
   "id": "fa7a30d6",
   "metadata": {},
   "source": [
    "\n",
    "Q.10 Write a Python program to Cloning or Copying a list?"
   ]
  },
  {
   "cell_type": "code",
   "execution_count": 28,
   "id": "12497c59",
   "metadata": {},
   "outputs": [
    {
     "name": "stdout",
     "output_type": "stream",
     "text": [
      "[1, 2, 3, [23, 45, 5], 34]\n"
     ]
    }
   ],
   "source": [
    "import copy\n",
    "l2=[1,2,3,[23,45,5],34]\n",
    "l3=copy.copy(l2)\n",
    "print(l3)"
   ]
  },
  {
   "cell_type": "markdown",
   "id": "f63f96d7",
   "metadata": {},
   "source": [
    "\n",
    "Q11.Write a Python program to Count occurrences of an element in a list?"
   ]
  },
  {
   "cell_type": "code",
   "execution_count": 36,
   "id": "068100a7",
   "metadata": {},
   "outputs": [
    {
     "name": "stdout",
     "output_type": "stream",
     "text": [
      "[1, 2, 3, 4, 3, 5, 6, 3, 8, 3, 2]\n",
      "Enter the number which u want to check occurance 3\n",
      "occurrences of an element 3  in a list is  4\n"
     ]
    }
   ],
   "source": [
    "d=[1,2,3,4,3,5,6,3,8,3,2]\n",
    "print(d)\n",
    "num=int(input(\"Enter the number which u want to check occurance \"))\n",
    "c=d.count(num)\n",
    "print(f\"occurrences of an element {num}  in a list is \", c)"
   ]
  },
  {
   "cell_type": "code",
   "execution_count": null,
   "id": "3038535b",
   "metadata": {},
   "outputs": [],
   "source": []
  }
 ],
 "metadata": {
  "kernelspec": {
   "display_name": "Python 3 (ipykernel)",
   "language": "python",
   "name": "python3"
  },
  "language_info": {
   "codemirror_mode": {
    "name": "ipython",
    "version": 3
   },
   "file_extension": ".py",
   "mimetype": "text/x-python",
   "name": "python",
   "nbconvert_exporter": "python",
   "pygments_lexer": "ipython3",
   "version": "3.9.12"
  }
 },
 "nbformat": 4,
 "nbformat_minor": 5
}
