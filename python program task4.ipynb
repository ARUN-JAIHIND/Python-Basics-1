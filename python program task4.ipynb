{
 "cells": [
  {
   "cell_type": "markdown",
   "id": "029e18c0",
   "metadata": {},
   "source": [
    "Q1. Write a Python Program to Find the Factorial of a Number?\n",
    "Answer:"
   ]
  },
  {
   "cell_type": "code",
   "execution_count": 2,
   "id": "e3c45978",
   "metadata": {},
   "outputs": [
    {
     "name": "stdout",
     "output_type": "stream",
     "text": [
      "enter no 12\n",
      "factorial of number 12 is  479001600\n"
     ]
    }
   ],
   "source": [
    "fact=1\n",
    "num=int(input(\"enter no \"))\n",
    "if num==0 or num==1:\n",
    "    print(\"factorial of number is \",fact)\n",
    "else:\n",
    "    for i in range (1,num+1):\n",
    "        fact=fact*i\n",
    "    print(f\"factorial of number {num} is \",fact)"
   ]
  },
  {
   "cell_type": "markdown",
   "id": "97f2ad6e",
   "metadata": {},
   "source": [
    "Q2. Write a Python Program to Display the multiplication Table?\n",
    "Answer:"
   ]
  },
  {
   "cell_type": "code",
   "execution_count": 3,
   "id": "38120498",
   "metadata": {},
   "outputs": [
    {
     "name": "stdout",
     "output_type": "stream",
     "text": [
      "enter no 4\n",
      "Table of 4 is \n",
      "4*1=4\n",
      "4*2=8\n",
      "4*3=12\n",
      "4*4=16\n",
      "4*5=20\n",
      "4*6=24\n",
      "4*7=28\n",
      "4*8=32\n",
      "4*9=36\n",
      "4*10=40\n"
     ]
    }
   ],
   "source": [
    "num=int(input(\"enter no \"))\n",
    "print(f\"Table of {num} is \")\n",
    "for i in range (1,11):\n",
    "    multi=num*i\n",
    "    print(f\"{num}*{i}={multi}\")"
   ]
  },
  {
   "cell_type": "markdown",
   "id": "db867e9a",
   "metadata": {},
   "source": [
    "Q3. Write a Python Program to Print the Fibonacci sequence?\n",
    "Answer:"
   ]
  },
  {
   "cell_type": "code",
   "execution_count": 4,
   "id": "66dc3a39",
   "metadata": {},
   "outputs": [
    {
     "name": "stdout",
     "output_type": "stream",
     "text": [
      " Enter the seuence number u want to print Fibonacci series10\n",
      "0\n",
      "1\n",
      "1\n",
      "2\n",
      "3\n",
      "5\n",
      "8\n",
      "13\n",
      "21\n",
      "34\n"
     ]
    }
   ],
   "source": [
    "limit=int(input(\" Enter the seuence number u want to print Fibonacci series\"))\n",
    "a=0\n",
    "b=1\n",
    "for i in range (1,limit+1):\n",
    "    print(a)\n",
    "    a,b=a+b,a"
   ]
  },
  {
   "cell_type": "markdown",
   "id": "5d8f0c51",
   "metadata": {},
   "source": [
    "Q4. Write a Python Program to Check Armstrong Number?\n",
    "Answer:"
   ]
  },
  {
   "cell_type": "code",
   "execution_count": 6,
   "id": "603942fc",
   "metadata": {},
   "outputs": [
    {
     "name": "stdout",
     "output_type": "stream",
     "text": [
      "enter number 370\n",
      "370 is an armstrong number\n"
     ]
    }
   ],
   "source": [
    "num=int(input(\"enter number \"))\n",
    "x=num\n",
    "sum=0\n",
    "while x>0:\n",
    "    y=x%10\n",
    "    x=x//10\n",
    "    sum=sum+y**3\n",
    "if sum ==num:\n",
    "    print(f\"{num} is an armstrong number\")\n",
    "else:\n",
    "    print(f\"{num} is not an armstrong number\")"
   ]
  },
  {
   "cell_type": "markdown",
   "id": "69834223",
   "metadata": {},
   "source": [
    "Q5. Write a Python Program to Find Armstrong Number in an Interval?\n",
    "Answer:"
   ]
  },
  {
   "cell_type": "code",
   "execution_count": 7,
   "id": "4eabc844",
   "metadata": {},
   "outputs": [
    {
     "name": "stdout",
     "output_type": "stream",
     "text": [
      "enter upper limit 1000\n",
      "enter lower limit 0\n",
      "Armstrong Number in an Interval 0-1000 is\n",
      "0 1 153 370 371 407 "
     ]
    }
   ],
   "source": [
    "upper=int(input(\"enter upper limit \"))\n",
    "lower=int(input(\"enter lower limit \"))\n",
    "print(f\"Armstrong Number in an Interval {lower}-{upper} is\")\n",
    "for i in range (lower,upper+1):\n",
    "    sum=0\n",
    "    x=i\n",
    "    while x>0:\n",
    "        y=x%10\n",
    "        x=x//10\n",
    "        sum=sum+y**3\n",
    "    if sum ==i:\n",
    "        print(i,end=\" \")"
   ]
  },
  {
   "cell_type": "markdown",
   "id": "1265c965",
   "metadata": {},
   "source": [
    "Q6.Write a Python Program to Find the Sum of Natural Numbers?\n",
    "Answer:"
   ]
  },
  {
   "cell_type": "code",
   "execution_count": 8,
   "id": "1de86990",
   "metadata": {},
   "outputs": [
    {
     "name": "stdout",
     "output_type": "stream",
     "text": [
      "enter the no. upto you want to add 10\n",
      "sum of natural no.  is  55.0\n"
     ]
    }
   ],
   "source": [
    "num=int(input(\"enter the no. upto you want to add \"))\n",
    "sum=(num*(num+1))/2\n",
    "print(f\"sum of natural no.  is  {sum}\")"
   ]
  },
  {
   "cell_type": "code",
   "execution_count": 9,
   "id": "6dc487a9",
   "metadata": {},
   "outputs": [
    {
     "name": "stdout",
     "output_type": "stream",
     "text": [
      "enter the no. upto you want to add 10\n",
      "sum of natural no. is 55\n"
     ]
    }
   ],
   "source": [
    "num=int(input(\"enter the no. upto you want to add \"))\n",
    "sum=0\n",
    "for i in range (num+1):\n",
    "    sum=sum+i\n",
    "print(f\"sum of natural no. is {sum}\")"
   ]
  },
  {
   "cell_type": "code",
   "execution_count": null,
   "id": "b70ea158",
   "metadata": {},
   "outputs": [],
   "source": []
  }
 ],
 "metadata": {
  "kernelspec": {
   "display_name": "Python 3 (ipykernel)",
   "language": "python",
   "name": "python3"
  },
  "language_info": {
   "codemirror_mode": {
    "name": "ipython",
    "version": 3
   },
   "file_extension": ".py",
   "mimetype": "text/x-python",
   "name": "python",
   "nbconvert_exporter": "python",
   "pygments_lexer": "ipython3",
   "version": "3.9.12"
  }
 },
 "nbformat": 4,
 "nbformat_minor": 5
}
