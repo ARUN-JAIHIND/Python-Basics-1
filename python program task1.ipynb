{
 "cells": [
  {
   "cell_type": "markdown",
   "id": "7dcbd3c8",
   "metadata": {},
   "source": [
    "Q1. Write a Python program to print\"Hello Python\"?"
   ]
  },
  {
   "cell_type": "code",
   "execution_count": 1,
   "id": "9951e440",
   "metadata": {},
   "outputs": [
    {
     "name": "stdout",
     "output_type": "stream",
     "text": [
      "Hello Python\n"
     ]
    }
   ],
   "source": [
    "print(\"Hello Python\")"
   ]
  },
  {
   "cell_type": "markdown",
   "id": "c1e886dc",
   "metadata": {},
   "source": [
    "Q2. Write a Python program to do arithmetical operations addition and division.?"
   ]
  },
  {
   "cell_type": "code",
   "execution_count": 2,
   "id": "c1313a1b",
   "metadata": {},
   "outputs": [],
   "source": [
    "a=10\n",
    "b=20\n",
    "c=a+b\n",
    "d=b/a"
   ]
  },
  {
   "cell_type": "code",
   "execution_count": 3,
   "id": "83ba7c7c",
   "metadata": {},
   "outputs": [
    {
     "data": {
      "text/plain": [
       "30"
      ]
     },
     "execution_count": 3,
     "metadata": {},
     "output_type": "execute_result"
    }
   ],
   "source": [
    "c"
   ]
  },
  {
   "cell_type": "code",
   "execution_count": 4,
   "id": "23a1f90a",
   "metadata": {},
   "outputs": [
    {
     "data": {
      "text/plain": [
       "2.0"
      ]
     },
     "execution_count": 4,
     "metadata": {},
     "output_type": "execute_result"
    }
   ],
   "source": [
    "d"
   ]
  },
  {
   "cell_type": "markdown",
   "id": "a6be28d5",
   "metadata": {},
   "source": [
    "Q3. Write a Python program to find the area of a triangle?"
   ]
  },
  {
   "cell_type": "code",
   "execution_count": 10,
   "id": "f2a1c079",
   "metadata": {},
   "outputs": [
    {
     "name": "stdout",
     "output_type": "stream",
     "text": [
      "Enter base of Triangle20\n",
      "Enter height of Triangle10\n",
      "Area of Triangle is 100.0\n"
     ]
    }
   ],
   "source": [
    "base=int(input(\"Enter base of Triangle\"))\n",
    "height=int(input(\"Enter height of Triangle\"))\n",
    "area=(base*height)/2\n",
    "print(f\"Area of Triangle is {area}\")"
   ]
  },
  {
   "cell_type": "markdown",
   "id": "57e90f07",
   "metadata": {},
   "source": [
    "Q4. Write a Python program to swap two variables?"
   ]
  },
  {
   "cell_type": "code",
   "execution_count": 12,
   "id": "5db097c1",
   "metadata": {},
   "outputs": [
    {
     "name": "stdout",
     "output_type": "stream",
     "text": [
      "Enter the number1  30\n",
      "Enter the number2  40\n",
      "Your Number has been swaped now number1 is 40 and number2 30 \n"
     ]
    }
   ],
   "source": [
    "num1=int(input(\"Enter the number1  \"))\n",
    "num2=int(input(\"Enter the number2  \"))\n",
    "c=num1\n",
    "num1=num2\n",
    "num2=c\n",
    "print(f\"Your Number has been swaped now number1 is {num1} and number2 {num2} \")\n"
   ]
  },
  {
   "cell_type": "markdown",
   "id": "e56b8ac3",
   "metadata": {},
   "source": [
    "Q5. Write a Python program to generate a random number?"
   ]
  },
  {
   "cell_type": "code",
   "execution_count": 16,
   "id": "bd7925a5",
   "metadata": {},
   "outputs": [
    {
     "name": "stdout",
     "output_type": "stream",
     "text": [
      "Random number generated is 7\n"
     ]
    }
   ],
   "source": [
    "import random\n",
    "number=random.randint(0,100)\n",
    "print(f\"Random number generated is {number}\")"
   ]
  },
  {
   "cell_type": "code",
   "execution_count": null,
   "id": "43d622c5",
   "metadata": {},
   "outputs": [],
   "source": []
  }
 ],
 "metadata": {
  "kernelspec": {
   "display_name": "Python 3 (ipykernel)",
   "language": "python",
   "name": "python3"
  },
  "language_info": {
   "codemirror_mode": {
    "name": "ipython",
    "version": 3
   },
   "file_extension": ".py",
   "mimetype": "text/x-python",
   "name": "python",
   "nbconvert_exporter": "python",
   "pygments_lexer": "ipython3",
   "version": "3.9.12"
  }
 },
 "nbformat": 4,
 "nbformat_minor": 5
}
