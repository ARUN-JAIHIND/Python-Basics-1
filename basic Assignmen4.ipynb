{
 "cells": [
  {
   "cell_type": "raw",
   "id": "8d24e404",
   "metadata": {},
   "source": [
    "Q1. What exactly is []?\n",
    "Answer: An empty List.\n",
    "Q2. In a list of values stored in a variable called spam, how would you assign the value 'hello' as the\n",
    "third value? (Assume [2, 4, 6, 8, 10] are in spam.)\n",
    "Answer:spam[2]=\"hello\""
   ]
  },
  {
   "cell_type": "code",
   "execution_count": 3,
   "id": "b9b8c5f6",
   "metadata": {},
   "outputs": [
    {
     "data": {
      "text/plain": [
       "[2, 4, 6, 8, 10]"
      ]
     },
     "execution_count": 3,
     "metadata": {},
     "output_type": "execute_result"
    }
   ],
   "source": [
    "spam=[2,4,6,8,10]\n",
    "spam"
   ]
  },
  {
   "cell_type": "code",
   "execution_count": 4,
   "id": "f0a78fef",
   "metadata": {},
   "outputs": [
    {
     "data": {
      "text/plain": [
       "[2, 4, 'hello', 8, 10]"
      ]
     },
     "execution_count": 4,
     "metadata": {},
     "output_type": "execute_result"
    }
   ],
   "source": [
    "spam[2]=\"hello\"\n",
    "spam"
   ]
  },
  {
   "cell_type": "raw",
   "id": "08e841d6",
   "metadata": {},
   "source": [
    "Let's pretend the spam includes the list ['a','b','c','d'] for the next three queries.\n",
    "Q3. What is the value of spam[int(int('3'* 2) / 11)]?\n",
    "Answer:'d'"
   ]
  },
  {
   "cell_type": "code",
   "execution_count": 5,
   "id": "2b440298",
   "metadata": {},
   "outputs": [
    {
     "data": {
      "text/plain": [
       "['a', 'b', 'c', 'd']"
      ]
     },
     "execution_count": 5,
     "metadata": {},
     "output_type": "execute_result"
    }
   ],
   "source": [
    "spam=['a','b','c','d']\n",
    "spam"
   ]
  },
  {
   "cell_type": "code",
   "execution_count": 6,
   "id": "019a2a84",
   "metadata": {},
   "outputs": [
    {
     "data": {
      "text/plain": [
       "'d'"
      ]
     },
     "execution_count": 6,
     "metadata": {},
     "output_type": "execute_result"
    }
   ],
   "source": [
    "spam[int(int('3'* 2) / 11)]"
   ]
  },
  {
   "cell_type": "raw",
   "id": "eb8360bc",
   "metadata": {},
   "source": [
    "Q.4 What is the value of spam[-1]?\n",
    "Answer:'d'"
   ]
  },
  {
   "cell_type": "code",
   "execution_count": 7,
   "id": "4aeaf1de",
   "metadata": {},
   "outputs": [
    {
     "data": {
      "text/plain": [
       "'d'"
      ]
     },
     "execution_count": 7,
     "metadata": {},
     "output_type": "execute_result"
    }
   ],
   "source": [
    "spam[-1]"
   ]
  },
  {
   "cell_type": "raw",
   "id": "03157c1c",
   "metadata": {},
   "source": [
    "Q.5 What is the value of spam[:2]?\n",
    "Answer:['a', 'b']"
   ]
  },
  {
   "cell_type": "code",
   "execution_count": 8,
   "id": "30a76a27",
   "metadata": {
    "scrolled": true
   },
   "outputs": [
    {
     "data": {
      "text/plain": [
       "['a', 'b']"
      ]
     },
     "execution_count": 8,
     "metadata": {},
     "output_type": "execute_result"
    }
   ],
   "source": [
    "spam[:2]"
   ]
  },
  {
   "cell_type": "raw",
   "id": "7e79ef3a",
   "metadata": {},
   "source": [
    "Let's pretend bacon has the list [3.14,'cat',11,'cat',True] for the next three questions.\n",
    "Q.6 What is the value of bacon.index('cat')?\n",
    "Answer:1"
   ]
  },
  {
   "cell_type": "code",
   "execution_count": 9,
   "id": "0442e8ce",
   "metadata": {},
   "outputs": [],
   "source": [
    "bacon=[3.14,'cat',11,'cat',True]"
   ]
  },
  {
   "cell_type": "code",
   "execution_count": 10,
   "id": "5b322a7c",
   "metadata": {},
   "outputs": [
    {
     "data": {
      "text/plain": [
       "1"
      ]
     },
     "execution_count": 10,
     "metadata": {},
     "output_type": "execute_result"
    }
   ],
   "source": [
    "bacon.index('cat')"
   ]
  },
  {
   "cell_type": "raw",
   "id": "75c72d30",
   "metadata": {},
   "source": [
    "Q.7 How does bacon.append(99) change the look of the list value in bacon?\n",
    "Answer:\n",
    "bacon.append(99) add the value 99 at the end position of list bacon."
   ]
  },
  {
   "cell_type": "code",
   "execution_count": 11,
   "id": "0fbeed1e",
   "metadata": {},
   "outputs": [
    {
     "data": {
      "text/plain": [
       "[3.14, 'cat', 11, 'cat', True, 99]"
      ]
     },
     "execution_count": 11,
     "metadata": {},
     "output_type": "execute_result"
    }
   ],
   "source": [
    "bacon.append(99)\n",
    "bacon"
   ]
  },
  {
   "cell_type": "raw",
   "id": "f3515db8",
   "metadata": {},
   "source": [
    "Q.8 How does bacon.remove('cat') change the look of the list in bacon\n",
    "Answer:[3.14, 11, True, 99]"
   ]
  },
  {
   "cell_type": "code",
   "execution_count": 13,
   "id": "597d0cd2",
   "metadata": {},
   "outputs": [
    {
     "data": {
      "text/plain": [
       "[3.14, 11, True, 99]"
      ]
     },
     "execution_count": 13,
     "metadata": {},
     "output_type": "execute_result"
    }
   ],
   "source": [
    "bacon.remove('cat')\n",
    "bacon"
   ]
  },
  {
   "cell_type": "raw",
   "id": "46d70ac6",
   "metadata": {},
   "source": [
    "Q.9 What are the list concatenation and list replication operators?\n",
    "Answer: \n",
    "'+'   list concatination operator\n",
    "'*'   list replication operator\n",
    "\n",
    "Q.10 What is difference between the list methods append() and insert()?\n",
    "Answer:\n",
    "append add the element in the list at last position and insert used for add element in the list at specific position.\n",
    "ex:"
   ]
  },
  {
   "cell_type": "code",
   "execution_count": 14,
   "id": "8cfc7157",
   "metadata": {},
   "outputs": [
    {
     "data": {
      "text/plain": [
       "[3.14, 11, True, 99, 100]"
      ]
     },
     "execution_count": 14,
     "metadata": {},
     "output_type": "execute_result"
    }
   ],
   "source": [
    "bacon.append(100)\n",
    "bacon"
   ]
  },
  {
   "cell_type": "code",
   "execution_count": 17,
   "id": "c99efa42",
   "metadata": {},
   "outputs": [
    {
     "data": {
      "text/plain": [
       "[3.14, 'Tonny', 11, True, 99, 100]"
      ]
     },
     "execution_count": 17,
     "metadata": {},
     "output_type": "execute_result"
    }
   ],
   "source": [
    "bacon.insert(1,\"Tonny\")\n",
    "bacon"
   ]
  },
  {
   "cell_type": "raw",
   "id": "28a862bc",
   "metadata": {},
   "source": [
    "Q.11 What are the two methods for removing items from a list?\n",
    "Answer:\n",
    "pop()\n",
    "remove()\n",
    "ex:"
   ]
  },
  {
   "cell_type": "code",
   "execution_count": 18,
   "id": "bb45ff80",
   "metadata": {},
   "outputs": [
    {
     "data": {
      "text/plain": [
       "[3.14, 'Tonny', 11, True, 99, 100]"
      ]
     },
     "execution_count": 18,
     "metadata": {},
     "output_type": "execute_result"
    }
   ],
   "source": [
    "bacon"
   ]
  },
  {
   "cell_type": "code",
   "execution_count": 19,
   "id": "ccf65401",
   "metadata": {},
   "outputs": [
    {
     "data": {
      "text/plain": [
       "'Tonny'"
      ]
     },
     "execution_count": 19,
     "metadata": {},
     "output_type": "execute_result"
    }
   ],
   "source": [
    "bacon.pop(1)"
   ]
  },
  {
   "cell_type": "code",
   "execution_count": 20,
   "id": "b0461edb",
   "metadata": {},
   "outputs": [
    {
     "data": {
      "text/plain": [
       "[3.14, 11, True, 99, 100]"
      ]
     },
     "execution_count": 20,
     "metadata": {},
     "output_type": "execute_result"
    }
   ],
   "source": [
    "bacon"
   ]
  },
  {
   "cell_type": "code",
   "execution_count": 21,
   "id": "b8d72e73",
   "metadata": {},
   "outputs": [],
   "source": [
    "bacon.remove(100)"
   ]
  },
  {
   "cell_type": "code",
   "execution_count": 22,
   "id": "c8c53499",
   "metadata": {},
   "outputs": [
    {
     "data": {
      "text/plain": [
       "[3.14, 11, True, 99]"
      ]
     },
     "execution_count": 22,
     "metadata": {},
     "output_type": "execute_result"
    }
   ],
   "source": [
    "bacon"
   ]
  },
  {
   "cell_type": "raw",
   "id": "381a62d9",
   "metadata": {},
   "source": [
    "Q12.Describe how list values and string values are identical.\n",
    "Answer:\n",
    "list values and string shows similarity in len(),concatination and replication,loops\n",
    "ex:"
   ]
  },
  {
   "cell_type": "code",
   "execution_count": 23,
   "id": "c3571c22",
   "metadata": {},
   "outputs": [],
   "source": [
    "a=[\"ram\",\"raghav\",\"arjun\"]"
   ]
  },
  {
   "cell_type": "code",
   "execution_count": 24,
   "id": "b1f222fa",
   "metadata": {},
   "outputs": [],
   "source": [
    "b=\"rajeev\""
   ]
  },
  {
   "cell_type": "code",
   "execution_count": 28,
   "id": "26ba9d6a",
   "metadata": {},
   "outputs": [
    {
     "data": {
      "text/plain": [
       "['ram', 'raghav', 'arjun', 'ram', 'raghav', 'arjun']"
      ]
     },
     "execution_count": 28,
     "metadata": {},
     "output_type": "execute_result"
    }
   ],
   "source": [
    "a*2"
   ]
  },
  {
   "cell_type": "code",
   "execution_count": 29,
   "id": "dc4decca",
   "metadata": {},
   "outputs": [
    {
     "data": {
      "text/plain": [
       "'rajeevrajeev'"
      ]
     },
     "execution_count": 29,
     "metadata": {},
     "output_type": "execute_result"
    }
   ],
   "source": [
    "b*2"
   ]
  },
  {
   "cell_type": "code",
   "execution_count": 30,
   "id": "e0d6536a",
   "metadata": {},
   "outputs": [
    {
     "data": {
      "text/plain": [
       "3"
      ]
     },
     "execution_count": 30,
     "metadata": {},
     "output_type": "execute_result"
    }
   ],
   "source": [
    "len(a)"
   ]
  },
  {
   "cell_type": "code",
   "execution_count": 31,
   "id": "2d4218d1",
   "metadata": {},
   "outputs": [
    {
     "data": {
      "text/plain": [
       "6"
      ]
     },
     "execution_count": 31,
     "metadata": {},
     "output_type": "execute_result"
    }
   ],
   "source": [
    "len(b)"
   ]
  },
  {
   "cell_type": "code",
   "execution_count": 32,
   "id": "dc370071",
   "metadata": {},
   "outputs": [
    {
     "name": "stdout",
     "output_type": "stream",
     "text": [
      "ram\n",
      "raghav\n",
      "arjun\n"
     ]
    }
   ],
   "source": [
    "for i in a:\n",
    "    print(i)"
   ]
  },
  {
   "cell_type": "code",
   "execution_count": 33,
   "id": "269e38ad",
   "metadata": {},
   "outputs": [
    {
     "name": "stdout",
     "output_type": "stream",
     "text": [
      "r\n",
      "a\n",
      "j\n",
      "e\n",
      "e\n",
      "v\n"
     ]
    }
   ],
   "source": [
    "for i in b:\n",
    "    print(i)"
   ]
  },
  {
   "cell_type": "code",
   "execution_count": null,
   "id": "53d289d2",
   "metadata": {},
   "outputs": [],
   "source": [
    "Q.13 What's the difference between tuples and lists?\n",
    "Answer:\n",
    "The main difference between list and tupple is that tuples are immutable but lists are mutable.\n",
    "\n",
    "Q.14 How do you type a tuple value that only contains the integer 42?\n",
    "Answer:\n",
    "abc=(42,)"
   ]
  },
  {
   "cell_type": "code",
   "execution_count": 34,
   "id": "adad5c7f",
   "metadata": {},
   "outputs": [],
   "source": [
    "abc=(42,)"
   ]
  },
  {
   "cell_type": "code",
   "execution_count": 35,
   "id": "85360aff",
   "metadata": {},
   "outputs": [
    {
     "data": {
      "text/plain": [
       "tuple"
      ]
     },
     "execution_count": 35,
     "metadata": {},
     "output_type": "execute_result"
    }
   ],
   "source": [
    "type(abc)"
   ]
  },
  {
   "cell_type": "raw",
   "id": "8ac0f4c6",
   "metadata": {},
   "source": [
    "Q.15 How do you get a list value's tuple form? How do you get a tuple value's list form?\n",
    "Answer:\n",
    "list() for get a list value's from tuple\n",
    "tuple() for get a tuple value from list\n",
    "ex:"
   ]
  },
  {
   "cell_type": "code",
   "execution_count": 36,
   "id": "85253870",
   "metadata": {},
   "outputs": [],
   "source": [
    "E=[\"ada\",1,2,3]\n",
    "F=(8,9,7)\n",
    "G=tuple(E)\n",
    "H=list(F)"
   ]
  },
  {
   "cell_type": "code",
   "execution_count": 38,
   "id": "66ee6087",
   "metadata": {},
   "outputs": [
    {
     "data": {
      "text/plain": [
       "tuple"
      ]
     },
     "execution_count": 38,
     "metadata": {},
     "output_type": "execute_result"
    }
   ],
   "source": [
    "type(G)"
   ]
  },
  {
   "cell_type": "code",
   "execution_count": 39,
   "id": "48d70e15",
   "metadata": {},
   "outputs": [
    {
     "data": {
      "text/plain": [
       "list"
      ]
     },
     "execution_count": 39,
     "metadata": {},
     "output_type": "execute_result"
    }
   ],
   "source": [
    "type(H)"
   ]
  },
  {
   "cell_type": "raw",
   "id": "ece3ea5e",
   "metadata": {},
   "source": [
    "Q.16 Variables that \"contain\" list values are not necessarily lists themselves. Instead, what do they\n",
    "contain?\n",
    "Answer:\n",
    "They may contain referance to list values.\n",
    "\n",
    "Q.17 How do you distinguish between copy.copy() and copy.deepcopy()?\n",
    "Answer:\n",
    "copy.copy() for shallow copy  means if we make change in copied list it also change both.\n",
    "copy.deepcopy() for deep copy  mena sif we make change in copied list it does not make change in original one.\n",
    "ex:\n"
   ]
  },
  {
   "cell_type": "code",
   "execution_count": 48,
   "id": "5d790c47",
   "metadata": {},
   "outputs": [],
   "source": [
    "l=[[34,4,6],[66,68,77]]"
   ]
  },
  {
   "cell_type": "code",
   "execution_count": 49,
   "id": "01910b57",
   "metadata": {},
   "outputs": [],
   "source": [
    "import copy\n",
    "m=copy.deepcopy(l)"
   ]
  },
  {
   "cell_type": "code",
   "execution_count": 50,
   "id": "c4429e7c",
   "metadata": {},
   "outputs": [
    {
     "data": {
      "text/plain": [
       "[[34, 4, 6], [66, 68, 77]]"
      ]
     },
     "execution_count": 50,
     "metadata": {},
     "output_type": "execute_result"
    }
   ],
   "source": [
    "m"
   ]
  },
  {
   "cell_type": "code",
   "execution_count": 53,
   "id": "69e9512c",
   "metadata": {},
   "outputs": [
    {
     "data": {
      "text/plain": [
       "[[34, 100, 6], [66, 68, 77]]"
      ]
     },
     "execution_count": 53,
     "metadata": {},
     "output_type": "execute_result"
    }
   ],
   "source": [
    "m[0][1]=100\n",
    "m"
   ]
  },
  {
   "cell_type": "code",
   "execution_count": 54,
   "id": "7cfe177d",
   "metadata": {},
   "outputs": [
    {
     "data": {
      "text/plain": [
       "[[34, 4, 6], [66, 68, 77]]"
      ]
     },
     "execution_count": 54,
     "metadata": {},
     "output_type": "execute_result"
    }
   ],
   "source": [
    "# copy.deepcopy() does not change original copy only chage occur in duplicate copy.\n",
    "l"
   ]
  },
  {
   "cell_type": "code",
   "execution_count": 55,
   "id": "e2adf0e7",
   "metadata": {},
   "outputs": [
    {
     "data": {
      "text/plain": [
       "[[34, 4, 6], [66, 68, 77]]"
      ]
     },
     "execution_count": 55,
     "metadata": {},
     "output_type": "execute_result"
    }
   ],
   "source": [
    "n=copy.copy(l)\n",
    "n"
   ]
  },
  {
   "cell_type": "code",
   "execution_count": 56,
   "id": "34b896e4",
   "metadata": {},
   "outputs": [],
   "source": [
    "n[0][1]=500"
   ]
  },
  {
   "cell_type": "code",
   "execution_count": 57,
   "id": "6361fb73",
   "metadata": {},
   "outputs": [
    {
     "data": {
      "text/plain": [
       "[[34, 500, 6], [66, 68, 77]]"
      ]
     },
     "execution_count": 57,
     "metadata": {},
     "output_type": "execute_result"
    }
   ],
   "source": [
    "n"
   ]
  },
  {
   "cell_type": "code",
   "execution_count": 58,
   "id": "89342cbc",
   "metadata": {},
   "outputs": [
    {
     "data": {
      "text/plain": [
       "[[34, 500, 6], [66, 68, 77]]"
      ]
     },
     "execution_count": 58,
     "metadata": {},
     "output_type": "execute_result"
    }
   ],
   "source": [
    "# copy.copy() change original and duplicate both. \n",
    "l"
   ]
  },
  {
   "cell_type": "code",
   "execution_count": null,
   "id": "fc00b84f",
   "metadata": {},
   "outputs": [],
   "source": []
  }
 ],
 "metadata": {
  "kernelspec": {
   "display_name": "Python 3 (ipykernel)",
   "language": "python",
   "name": "python3"
  },
  "language_info": {
   "codemirror_mode": {
    "name": "ipython",
    "version": 3
   },
   "file_extension": ".py",
   "mimetype": "text/x-python",
   "name": "python",
   "nbconvert_exporter": "python",
   "pygments_lexer": "ipython3",
   "version": "3.9.12"
  }
 },
 "nbformat": 4,
 "nbformat_minor": 5
}
