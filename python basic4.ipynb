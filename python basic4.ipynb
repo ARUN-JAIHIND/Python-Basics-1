{
 "cells": [
  {
   "cell_type": "raw",
   "id": "acf9c28e",
   "metadata": {},
   "source": [
    "Q1. What exactly is []?\n",
    "Answer: An empty List.\n",
    "Q2. In a list of values stored in a variable called spam, how would you assign the value 'hello' as the\n",
    "third value? (Assume [2, 4, 6, 8, 10] are in spam.)\n",
    "Answer:spam[2]=\"hello\""
   ]
  },
  {
   "cell_type": "code",
   "execution_count": 3,
   "id": "30999029",
   "metadata": {},
   "outputs": [
    {
     "data": {
      "text/plain": [
       "[2, 4, 6, 8, 10]"
      ]
     },
     "execution_count": 3,
     "metadata": {},
     "output_type": "execute_result"
    }
   ],
   "source": [
    "spam=[2,4,6,8,10]\n",
    "spam"
   ]
  },
  {
   "cell_type": "code",
   "execution_count": 4,
   "id": "f0b76192",
   "metadata": {},
   "outputs": [
    {
     "data": {
      "text/plain": [
       "[2, 4, 'hello', 8, 10]"
      ]
     },
     "execution_count": 4,
     "metadata": {},
     "output_type": "execute_result"
    }
   ],
   "source": [
    "spam[2]=\"hello\"\n",
    "spam"
   ]
  },
  {
   "cell_type": "raw",
   "id": "83a91a41",
   "metadata": {},
   "source": [
    "Let's pretend the spam includes the list ['a','b','c','d'] for the next three queries.\n",
    "Q3. What is the value of spam[int(int('3'* 2) / 11)]?\n",
    "Answer:'d'"
   ]
  },
  {
   "cell_type": "code",
   "execution_count": 5,
   "id": "c516c8f1",
   "metadata": {},
   "outputs": [
    {
     "data": {
      "text/plain": [
       "['a', 'b', 'c', 'd']"
      ]
     },
     "execution_count": 5,
     "metadata": {},
     "output_type": "execute_result"
    }
   ],
   "source": [
    "spam=['a','b','c','d']\n",
    "spam"
   ]
  },
  {
   "cell_type": "code",
   "execution_count": 6,
   "id": "d191e6ba",
   "metadata": {},
   "outputs": [
    {
     "data": {
      "text/plain": [
       "'d'"
      ]
     },
     "execution_count": 6,
     "metadata": {},
     "output_type": "execute_result"
    }
   ],
   "source": [
    "spam[int(int('3'* 2) / 11)]"
   ]
  },
  {
   "cell_type": "raw",
   "id": "6e53776c",
   "metadata": {},
   "source": [
    "Q.4 What is the value of spam[-1]?\n",
    "Answer:'d'"
   ]
  },
  {
   "cell_type": "code",
   "execution_count": 7,
   "id": "535eef39",
   "metadata": {},
   "outputs": [
    {
     "data": {
      "text/plain": [
       "'d'"
      ]
     },
     "execution_count": 7,
     "metadata": {},
     "output_type": "execute_result"
    }
   ],
   "source": [
    "spam[-1]"
   ]
  },
  {
   "cell_type": "raw",
   "id": "4f32394e",
   "metadata": {},
   "source": [
    "Q.5 What is the value of spam[:2]?\n",
    "Answer:['a', 'b']"
   ]
  },
  {
   "cell_type": "code",
   "execution_count": 8,
   "id": "07d2ff7c",
   "metadata": {
    "scrolled": true
   },
   "outputs": [
    {
     "data": {
      "text/plain": [
       "['a', 'b']"
      ]
     },
     "execution_count": 8,
     "metadata": {},
     "output_type": "execute_result"
    }
   ],
   "source": [
    "spam[:2]"
   ]
  },
  {
   "cell_type": "raw",
   "id": "ab68fc46",
   "metadata": {},
   "source": [
    "Let's pretend bacon has the list [3.14,'cat',11,'cat',True] for the next three questions.\n",
    "Q.6 What is the value of bacon.index('cat')?\n",
    "Answer:1"
   ]
  },
  {
   "cell_type": "code",
   "execution_count": 9,
   "id": "8c6f1952",
   "metadata": {},
   "outputs": [],
   "source": [
    "bacon=[3.14,'cat',11,'cat',True]"
   ]
  },
  {
   "cell_type": "code",
   "execution_count": 10,
   "id": "125b7456",
   "metadata": {},
   "outputs": [
    {
     "data": {
      "text/plain": [
       "1"
      ]
     },
     "execution_count": 10,
     "metadata": {},
     "output_type": "execute_result"
    }
   ],
   "source": [
    "bacon.index('cat')"
   ]
  },
  {
   "cell_type": "raw",
   "id": "c104e59c",
   "metadata": {},
   "source": [
    "Q.7 How does bacon.append(99) change the look of the list value in bacon?\n",
    "Answer:\n",
    "bacon.append(99) add the value 99 at the end position of list bacon."
   ]
  },
  {
   "cell_type": "code",
   "execution_count": 11,
   "id": "7c0c680e",
   "metadata": {},
   "outputs": [
    {
     "data": {
      "text/plain": [
       "[3.14, 'cat', 11, 'cat', True, 99]"
      ]
     },
     "execution_count": 11,
     "metadata": {},
     "output_type": "execute_result"
    }
   ],
   "source": [
    "bacon.append(99)\n",
    "bacon"
   ]
  },
  {
   "cell_type": "raw",
   "id": "a16fdb6a",
   "metadata": {},
   "source": [
    "Q.8 How does bacon.remove('cat') change the look of the list in bacon\n",
    "Answer:[3.14, 11, True, 99]"
   ]
  },
  {
   "cell_type": "code",
   "execution_count": 13,
   "id": "7aa30405",
   "metadata": {},
   "outputs": [
    {
     "data": {
      "text/plain": [
       "[3.14, 11, True, 99]"
      ]
     },
     "execution_count": 13,
     "metadata": {},
     "output_type": "execute_result"
    }
   ],
   "source": [
    "bacon.remove('cat')\n",
    "bacon"
   ]
  },
  {
   "cell_type": "raw",
   "id": "bb556303",
   "metadata": {},
   "source": [
    "Q.9 What are the list concatenation and list replication operators?\n",
    "Answer: \n",
    "'+'   list concatination operator\n",
    "'*'   list replication operator\n",
    "\n",
    "Q.10 What is difference between the list methods append() and insert()?\n",
    "Answer:\n",
    "append add the element in the list at last position and insert used for add element in the list at specific position.\n",
    "ex:"
   ]
  },
  {
   "cell_type": "code",
   "execution_count": 14,
   "id": "7d37fcab",
   "metadata": {},
   "outputs": [
    {
     "data": {
      "text/plain": [
       "[3.14, 11, True, 99, 100]"
      ]
     },
     "execution_count": 14,
     "metadata": {},
     "output_type": "execute_result"
    }
   ],
   "source": [
    "bacon.append(100)\n",
    "bacon"
   ]
  },
  {
   "cell_type": "code",
   "execution_count": 17,
   "id": "7d391f9d",
   "metadata": {},
   "outputs": [
    {
     "data": {
      "text/plain": [
       "[3.14, 'Tonny', 11, True, 99, 100]"
      ]
     },
     "execution_count": 17,
     "metadata": {},
     "output_type": "execute_result"
    }
   ],
   "source": [
    "bacon.insert(1,\"Tonny\")\n",
    "bacon"
   ]
  },
  {
   "cell_type": "raw",
   "id": "08f08e61",
   "metadata": {},
   "source": [
    "Q.11 What are the two methods for removing items from a list?\n",
    "Answer:\n",
    "pop()\n",
    "remove()\n",
    "ex:"
   ]
  },
  {
   "cell_type": "code",
   "execution_count": 18,
   "id": "387d4364",
   "metadata": {},
   "outputs": [
    {
     "data": {
      "text/plain": [
       "[3.14, 'Tonny', 11, True, 99, 100]"
      ]
     },
     "execution_count": 18,
     "metadata": {},
     "output_type": "execute_result"
    }
   ],
   "source": [
    "bacon"
   ]
  },
  {
   "cell_type": "code",
   "execution_count": 19,
   "id": "3e7cb76f",
   "metadata": {},
   "outputs": [
    {
     "data": {
      "text/plain": [
       "'Tonny'"
      ]
     },
     "execution_count": 19,
     "metadata": {},
     "output_type": "execute_result"
    }
   ],
   "source": [
    "bacon.pop(1)"
   ]
  },
  {
   "cell_type": "code",
   "execution_count": 20,
   "id": "bcdb5547",
   "metadata": {},
   "outputs": [
    {
     "data": {
      "text/plain": [
       "[3.14, 11, True, 99, 100]"
      ]
     },
     "execution_count": 20,
     "metadata": {},
     "output_type": "execute_result"
    }
   ],
   "source": [
    "bacon"
   ]
  },
  {
   "cell_type": "code",
   "execution_count": 21,
   "id": "a857b878",
   "metadata": {},
   "outputs": [],
   "source": [
    "bacon.remove(100)"
   ]
  },
  {
   "cell_type": "code",
   "execution_count": 22,
   "id": "3bb135c3",
   "metadata": {},
   "outputs": [
    {
     "data": {
      "text/plain": [
       "[3.14, 11, True, 99]"
      ]
     },
     "execution_count": 22,
     "metadata": {},
     "output_type": "execute_result"
    }
   ],
   "source": [
    "bacon"
   ]
  },
  {
   "cell_type": "raw",
   "id": "f72f3847",
   "metadata": {},
   "source": [
    "Q12.Describe how list values and string values are identical.\n",
    "Answer:\n",
    "list values and string shows similarity in len(),concatination and replication,loops\n",
    "ex:"
   ]
  },
  {
   "cell_type": "code",
   "execution_count": 23,
   "id": "197e0154",
   "metadata": {},
   "outputs": [],
   "source": [
    "a=[\"ram\",\"raghav\",\"arjun\"]"
   ]
  },
  {
   "cell_type": "code",
   "execution_count": 24,
   "id": "e8a564a2",
   "metadata": {},
   "outputs": [],
   "source": [
    "b=\"rajeev\""
   ]
  },
  {
   "cell_type": "code",
   "execution_count": 28,
   "id": "b7b8ea81",
   "metadata": {},
   "outputs": [
    {
     "data": {
      "text/plain": [
       "['ram', 'raghav', 'arjun', 'ram', 'raghav', 'arjun']"
      ]
     },
     "execution_count": 28,
     "metadata": {},
     "output_type": "execute_result"
    }
   ],
   "source": [
    "a*2"
   ]
  },
  {
   "cell_type": "code",
   "execution_count": 29,
   "id": "d22396e1",
   "metadata": {},
   "outputs": [
    {
     "data": {
      "text/plain": [
       "'rajeevrajeev'"
      ]
     },
     "execution_count": 29,
     "metadata": {},
     "output_type": "execute_result"
    }
   ],
   "source": [
    "b*2"
   ]
  },
  {
   "cell_type": "code",
   "execution_count": 30,
   "id": "a740976d",
   "metadata": {},
   "outputs": [
    {
     "data": {
      "text/plain": [
       "3"
      ]
     },
     "execution_count": 30,
     "metadata": {},
     "output_type": "execute_result"
    }
   ],
   "source": [
    "len(a)"
   ]
  },
  {
   "cell_type": "code",
   "execution_count": 31,
   "id": "604c48a0",
   "metadata": {},
   "outputs": [
    {
     "data": {
      "text/plain": [
       "6"
      ]
     },
     "execution_count": 31,
     "metadata": {},
     "output_type": "execute_result"
    }
   ],
   "source": [
    "len(b)"
   ]
  },
  {
   "cell_type": "code",
   "execution_count": 32,
   "id": "bf12682c",
   "metadata": {},
   "outputs": [
    {
     "name": "stdout",
     "output_type": "stream",
     "text": [
      "ram\n",
      "raghav\n",
      "arjun\n"
     ]
    }
   ],
   "source": [
    "for i in a:\n",
    "    print(i)"
   ]
  },
  {
   "cell_type": "code",
   "execution_count": 33,
   "id": "a842a969",
   "metadata": {},
   "outputs": [
    {
     "name": "stdout",
     "output_type": "stream",
     "text": [
      "r\n",
      "a\n",
      "j\n",
      "e\n",
      "e\n",
      "v\n"
     ]
    }
   ],
   "source": [
    "for i in b:\n",
    "    print(i)"
   ]
  },
  {
   "cell_type": "raw",
   "id": "d8a834d2",
   "metadata": {},
   "source": [
    "Q.13 What's the difference between tuples and lists?\n",
    "Answer:\n",
    "The main difference between list and tupple is that tuples are immutable but lists are mutable.\n",
    "\n",
    "Q.14 How do you type a tuple value that only contains the integer 42?\n",
    "Answer:\n",
    "abc=(42,)"
   ]
  },
  {
   "cell_type": "code",
   "execution_count": 34,
   "id": "e16a766a",
   "metadata": {},
   "outputs": [],
   "source": [
    "abc=(42,)"
   ]
  },
  {
   "cell_type": "code",
   "execution_count": 35,
   "id": "7787f3b7",
   "metadata": {},
   "outputs": [
    {
     "data": {
      "text/plain": [
       "tuple"
      ]
     },
     "execution_count": 35,
     "metadata": {},
     "output_type": "execute_result"
    }
   ],
   "source": [
    "type(abc)"
   ]
  },
  {
   "cell_type": "raw",
   "id": "76f0d2cb",
   "metadata": {},
   "source": [
    "Q.15 How do you get a list value's tuple form? How do you get a tuple value's list form?\n",
    "Answer:\n",
    "list() for get a list value's from tuple\n",
    "tuple() for get a tuple value from list\n",
    "ex:"
   ]
  },
  {
   "cell_type": "code",
   "execution_count": 36,
   "id": "a30a1baf",
   "metadata": {},
   "outputs": [],
   "source": [
    "E=[\"ada\",1,2,3]\n",
    "F=(8,9,7)\n",
    "G=tuple(E)\n",
    "H=list(F)"
   ]
  },
  {
   "cell_type": "code",
   "execution_count": 38,
   "id": "742830e4",
   "metadata": {},
   "outputs": [
    {
     "data": {
      "text/plain": [
       "tuple"
      ]
     },
     "execution_count": 38,
     "metadata": {},
     "output_type": "execute_result"
    }
   ],
   "source": [
    "type(G)"
   ]
  },
  {
   "cell_type": "code",
   "execution_count": 39,
   "id": "e92295a4",
   "metadata": {},
   "outputs": [
    {
     "data": {
      "text/plain": [
       "list"
      ]
     },
     "execution_count": 39,
     "metadata": {},
     "output_type": "execute_result"
    }
   ],
   "source": [
    "type(H)"
   ]
  },
  {
   "cell_type": "raw",
   "id": "c79fcd8e",
   "metadata": {},
   "source": [
    "Q.16 Variables that \"contain\" list values are not necessarily lists themselves. Instead, what do they\n",
    "contain?\n",
    "Answer:\n",
    "They may contain referance to list values.\n",
    "\n",
    "Q.17 How do you distinguish between copy.copy() and copy.deepcopy()?\n",
    "Answer:\n",
    "copy.copy() for shallow copy  means if we make change in copied list it also change both.\n",
    "copy.deepcopy() for deep copy  mena sif we make change in copied list it does not make change in original one.\n",
    "ex:\n"
   ]
  },
  {
   "cell_type": "code",
   "execution_count": 48,
   "id": "31c70a87",
   "metadata": {},
   "outputs": [],
   "source": [
    "l=[[34,4,6],[66,68,77]]"
   ]
  },
  {
   "cell_type": "code",
   "execution_count": 49,
   "id": "8f9aed27",
   "metadata": {},
   "outputs": [],
   "source": [
    "import copy\n",
    "m=copy.deepcopy(l)"
   ]
  },
  {
   "cell_type": "code",
   "execution_count": 50,
   "id": "08bc2df8",
   "metadata": {},
   "outputs": [
    {
     "data": {
      "text/plain": [
       "[[34, 4, 6], [66, 68, 77]]"
      ]
     },
     "execution_count": 50,
     "metadata": {},
     "output_type": "execute_result"
    }
   ],
   "source": [
    "m"
   ]
  },
  {
   "cell_type": "code",
   "execution_count": 53,
   "id": "b3357cd8",
   "metadata": {},
   "outputs": [
    {
     "data": {
      "text/plain": [
       "[[34, 100, 6], [66, 68, 77]]"
      ]
     },
     "execution_count": 53,
     "metadata": {},
     "output_type": "execute_result"
    }
   ],
   "source": [
    "m[0][1]=100\n",
    "m"
   ]
  },
  {
   "cell_type": "code",
   "execution_count": 54,
   "id": "55182da6",
   "metadata": {},
   "outputs": [
    {
     "data": {
      "text/plain": [
       "[[34, 4, 6], [66, 68, 77]]"
      ]
     },
     "execution_count": 54,
     "metadata": {},
     "output_type": "execute_result"
    }
   ],
   "source": [
    "# copy.deepcopy() does not change original copy only chage occur in duplicate copy.\n",
    "l"
   ]
  },
  {
   "cell_type": "code",
   "execution_count": 55,
   "id": "1f9bcd8a",
   "metadata": {},
   "outputs": [
    {
     "data": {
      "text/plain": [
       "[[34, 4, 6], [66, 68, 77]]"
      ]
     },
     "execution_count": 55,
     "metadata": {},
     "output_type": "execute_result"
    }
   ],
   "source": [
    "n=copy.copy(l)\n",
    "n"
   ]
  },
  {
   "cell_type": "code",
   "execution_count": 56,
   "id": "86eccdef",
   "metadata": {},
   "outputs": [],
   "source": [
    "n[0][1]=500"
   ]
  },
  {
   "cell_type": "code",
   "execution_count": 57,
   "id": "5bb930d8",
   "metadata": {},
   "outputs": [
    {
     "data": {
      "text/plain": [
       "[[34, 500, 6], [66, 68, 77]]"
      ]
     },
     "execution_count": 57,
     "metadata": {},
     "output_type": "execute_result"
    }
   ],
   "source": [
    "n"
   ]
  },
  {
   "cell_type": "code",
   "execution_count": 58,
   "id": "df4858af",
   "metadata": {},
   "outputs": [
    {
     "data": {
      "text/plain": [
       "[[34, 500, 6], [66, 68, 77]]"
      ]
     },
     "execution_count": 58,
     "metadata": {},
     "output_type": "execute_result"
    }
   ],
   "source": [
    "# copy.copy() change original and duplicate both. \n",
    "l"
   ]
  },
  {
   "cell_type": "code",
   "execution_count": null,
   "id": "9c79b1ff",
   "metadata": {},
   "outputs": [],
   "source": []
  }
 ],
 "metadata": {
  "kernelspec": {
   "display_name": "Python 3 (ipykernel)",
   "language": "python",
   "name": "python3"
  },
  "language_info": {
   "codemirror_mode": {
    "name": "ipython",
    "version": 3
   },
   "file_extension": ".py",
   "mimetype": "text/x-python",
   "name": "python",
   "nbconvert_exporter": "python",
   "pygments_lexer": "ipython3",
   "version": "3.9.12"
  }
 },
 "nbformat": 4,
 "nbformat_minor": 5
}
