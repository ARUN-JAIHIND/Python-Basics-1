{
 "cells": [
  {
   "cell_type": "markdown",
   "id": "b685861a",
   "metadata": {},
   "source": [
    "Q.1. Write a Python Program to Display Fibonacci Sequence Using Recursion?\n",
    "Answer:"
   ]
  },
  {
   "cell_type": "code",
   "execution_count": 1,
   "id": "1007623f",
   "metadata": {},
   "outputs": [
    {
     "name": "stdout",
     "output_type": "stream",
     "text": [
      "Enter no. of terns upto you want to print Fibonacci sequence:10\n",
      "Fibonacci sequence upto 10 terns\n",
      "0 1 1 2 3 5 8 13 21 34 "
     ]
    }
   ],
   "source": [
    "def fabo(n):\n",
    "    if n<=1:\n",
    "        return n\n",
    "    else:\n",
    "        return (fabo(n-1)+fabo(n-2))\n",
    "n=int(input(\"Enter no. of terns upto you want to print Fibonacci sequence:\"))\n",
    "print(f\"Fibonacci sequence upto {n} terns\")\n",
    "for i in range(n):\n",
    "    print(fabo(i),end=\" \")"
   ]
  },
  {
   "cell_type": "code",
   "execution_count": null,
   "id": "cc531cbc",
   "metadata": {},
   "outputs": [],
   "source": [
    "Q2. Write a Python Program to Find Factorial of Number Using Recursion?\n",
    "Answer:"
   ]
  },
  {
   "cell_type": "code",
   "execution_count": 2,
   "id": "409d07ee",
   "metadata": {},
   "outputs": [
    {
     "name": "stdout",
     "output_type": "stream",
     "text": [
      "Enter number10\n",
      "factorial of 10 is  3628800\n"
     ]
    }
   ],
   "source": [
    "def fact(n):\n",
    "    if n==0:\n",
    "        return 1\n",
    "    elif n==1:\n",
    "        return 1\n",
    "    else:\n",
    "        return (n*fact(n-1))\n",
    "n=int(input(\"Enter number\"))\n",
    "print(f\"factorial of {n} is \",fact(n))"
   ]
  },
  {
   "cell_type": "markdown",
   "id": "8394c0ea",
   "metadata": {},
   "source": [
    "Q3. Write a Python Program to calculate your Body Mass Index?\n",
    "Answer:"
   ]
  },
  {
   "cell_type": "code",
   "execution_count": 3,
   "id": "63832b51",
   "metadata": {},
   "outputs": [
    {
     "name": "stdout",
     "output_type": "stream",
     "text": [
      "enter body weight in kg 60\n",
      "enter height in meter2\n",
      "Your Body mass index is 15.0\n"
     ]
    }
   ],
   "source": [
    "w=int(input(\"enter body weight in kg \"))\n",
    "h=int(input(\"enter height in meter\"))\n",
    "bmi=w/(h**2)\n",
    "print(f\"Your Body mass index is {bmi}\")"
   ]
  },
  {
   "cell_type": "markdown",
   "id": "330a56d4",
   "metadata": {},
   "source": [
    "Q.4 Write a Python Program to calculate the natural logarithm of any number?\n",
    "Answe:"
   ]
  },
  {
   "cell_type": "code",
   "execution_count": 5,
   "id": "0dd816b4",
   "metadata": {},
   "outputs": [
    {
     "name": "stdout",
     "output_type": "stream",
     "text": [
      "Enter number 2\n",
      "natural logarithm of number of 2 is  0.6931471805599453\n"
     ]
    }
   ],
   "source": [
    "import math \n",
    "n=int(input(\"Enter number \"))\n",
    "ans=math.log(n)\n",
    "print(f\"natural logarithm of number of {n} is  {ans}\")"
   ]
  },
  {
   "cell_type": "markdown",
   "id": "20209fc6",
   "metadata": {},
   "source": [
    "Q.5 Write a Python Program for cube sum of first n natural numbers?\n",
    "Answer:"
   ]
  },
  {
   "cell_type": "code",
   "execution_count": 8,
   "id": "218d287f",
   "metadata": {},
   "outputs": [
    {
     "name": "stdout",
     "output_type": "stream",
     "text": [
      "enter the number of tern you want cube sum of n natural number 4\n",
      "cube sum of first 4 natural numbers is 100.0\n"
     ]
    }
   ],
   "source": [
    "n=int(input(\"enter the number of tern you want cube sum of n natural number \"))\n",
    "sum=(n*(n+1)/2)**2\n",
    "print(f\"cube sum of first {n} natural numbers is {sum}\")"
   ]
  },
  {
   "cell_type": "code",
   "execution_count": null,
   "id": "e3707236",
   "metadata": {},
   "outputs": [],
   "source": []
  }
 ],
 "metadata": {
  "kernelspec": {
   "display_name": "Python 3 (ipykernel)",
   "language": "python",
   "name": "python3"
  },
  "language_info": {
   "codemirror_mode": {
    "name": "ipython",
    "version": 3
   },
   "file_extension": ".py",
   "mimetype": "text/x-python",
   "name": "python",
   "nbconvert_exporter": "python",
   "pygments_lexer": "ipython3",
   "version": "3.9.12"
  }
 },
 "nbformat": 4,
 "nbformat_minor": 5
}
