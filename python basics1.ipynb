{
 "cells": [
  {
   "cell_type": "raw",
   "id": "3179477c",
   "metadata": {},
   "source": [
    "Q.1. In the below elements which of them are values or an expression? eg:- values can be\n",
    "integer or string and expressions will be mathematical operators.\n",
    "Answer:\n",
    "*        Expression(arithmetic)\n",
    "'hello'  values(string)\n",
    "-87.8    values(float)\n",
    "-        Expression(arithmetic)\n",
    "/        Expression(arithmetic)\n",
    "+        Expression(arithmetic)\n",
    "6        values(Integer)\n",
    "\n",
    "Q.2. What is the difference between string and variable?\n",
    "Answer:\n",
    "String is data type which stores in variable.It is written under \"\" or ''.Variable is just like a container which is used for store a data.\n",
    "\n",
    "Q.3.Describe three different data types.\n",
    "Answer:\n",
    "Boolean:it is a data type which stores only True or false value.\n",
    "List:it is date type which store multiple data of similar or different data type.\n",
    "integer: It stores only numarical values.\n",
    "\n",
    "Q.4.What is an expression made up of? What do all expressions do?\n",
    "Answer:\n",
    "Expression include relational, arithmetical ,Logical etc. operators.\n",
    "ex. #arithemetical expression\n",
    "    a=10\n",
    "    b=20\n",
    "    sum=a+b\n",
    " \n",
    "Q.5. This assignment statements, like spam = 10. What is the difference between an\n",
    "expression and a statement?\n",
    "Answer:\n",
    "Statement is the instructions that a Python interpreter can execute.For example, if statemnt, assignment stement, while statement, for statement etc.\n",
    "An expression is a combination of operators and operands that is interpreted to produce some other value. like relational, arithemetical, Logical operators.\n",
    "\n",
    "Q.6.After running the following code, what does the variable bacon contain?\n",
    "bacon = 22\n",
    "bacon + 1\n",
    "Answer:22\n",
    "\n",
    "7.What should the values of the following two terms be?\n",
    "'spam'+'spamsapam'\n",
    "'spam'*3\n",
    "Answer:"
   ]
  },
  {
   "cell_type": "code",
   "execution_count": 1,
   "id": "8a8c6844",
   "metadata": {},
   "outputs": [
    {
     "data": {
      "text/plain": [
       "'spamspamsapam'"
      ]
     },
     "execution_count": 1,
     "metadata": {},
     "output_type": "execute_result"
    }
   ],
   "source": [
    "'spam'+'spamsapam'"
   ]
  },
  {
   "cell_type": "code",
   "execution_count": 2,
   "id": "1a74acff",
   "metadata": {},
   "outputs": [
    {
     "data": {
      "text/plain": [
       "'spamspamspam'"
      ]
     },
     "execution_count": 2,
     "metadata": {},
     "output_type": "execute_result"
    }
   ],
   "source": [
    "'spam'*3"
   ]
  },
  {
   "cell_type": "raw",
   "id": "74d49a60",
   "metadata": {},
   "source": [
    "Q.8 Why is eggs a valid variable name while 100 is invalid?\n",
    "answer:\n",
    "variable name should not start with numbers.\n",
    "\n",
    "Q.9 What three functions can be used to get the integer, floating-point number, or string\n",
    "version of a value?\n",
    "Answer:\n",
    "int()   #integer\n",
    "float() #float\n",
    "str()   #string\n",
    "\n",
    "Q.10.Why does this expression cause an error? How can you fix it?\n",
    "'I have eaten'+ 99 +'burritos'\n",
    "Answer:\n",
    "the reason for error is that data type not same. the integer can not concatenate with string."
   ]
  },
  {
   "cell_type": "code",
   "execution_count": 3,
   "id": "71d3d69b",
   "metadata": {},
   "outputs": [
    {
     "data": {
      "text/plain": [
       "'I have eaten99burritos'"
      ]
     },
     "execution_count": 3,
     "metadata": {},
     "output_type": "execute_result"
    }
   ],
   "source": [
    "'I have eaten'+ str(99) +'burritos'"
   ]
  },
  {
   "cell_type": "code",
   "execution_count": null,
   "id": "59f3613b",
   "metadata": {},
   "outputs": [],
   "source": []
  }
 ],
 "metadata": {
  "kernelspec": {
   "display_name": "Python 3 (ipykernel)",
   "language": "python",
   "name": "python3"
  },
  "language_info": {
   "codemirror_mode": {
    "name": "ipython",
    "version": 3
   },
   "file_extension": ".py",
   "mimetype": "text/x-python",
   "name": "python",
   "nbconvert_exporter": "python",
   "pygments_lexer": "ipython3",
   "version": "3.9.12"
  }
 },
 "nbformat": 4,
 "nbformat_minor": 5
}
