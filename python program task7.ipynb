{
 "cells": [
  {
   "cell_type": "markdown",
   "id": "1bee17df",
   "metadata": {},
   "source": [
    "Q1. Write a Python Program to find sum of array?"
   ]
  },
  {
   "cell_type": "code",
   "execution_count": 1,
   "id": "d97ca906",
   "metadata": {},
   "outputs": [
    {
     "name": "stdout",
     "output_type": "stream",
     "text": [
      "sum of array is 47\n"
     ]
    }
   ],
   "source": [
    "a=[1,2,32,3,4,5]\n",
    "sum=0\n",
    "for i in a:\n",
    "    sum+=i\n",
    "print(f\"sum of array is {sum}\")"
   ]
  },
  {
   "cell_type": "markdown",
   "id": "88ab2bed",
   "metadata": {},
   "source": [
    "\n",
    "Q2. Write a Python Program to find largest element in an array?\n"
   ]
  },
  {
   "cell_type": "code",
   "execution_count": 3,
   "id": "63db5d89",
   "metadata": {},
   "outputs": [
    {
     "name": "stdout",
     "output_type": "stream",
     "text": [
      "largest element in array is 66\n"
     ]
    }
   ],
   "source": [
    "b=[22,4,33,56,23,66,40]\n",
    "b.sort()\n",
    "max=b[(len(b)-1)]\n",
    "print(f\"largest element in array is {max}\")"
   ]
  },
  {
   "cell_type": "markdown",
   "id": "7a73f7f1",
   "metadata": {},
   "source": [
    "\n",
    "Q.3 Write a Python Program for array rotation?"
   ]
  },
  {
   "cell_type": "code",
   "execution_count": 4,
   "id": "41a7b285",
   "metadata": {},
   "outputs": [
    {
     "name": "stdout",
     "output_type": "stream",
     "text": [
      "Enter step value for rotation2\n",
      "array before rotation [1, 2, 3, 4, 5, 6]\n",
      "array after rotation  [3, 4, 5, 6, 1, 2]\n"
     ]
    }
   ],
   "source": [
    "c=[1,2,3,4,5,6]\n",
    "n=int(input(\"Enter step value for rotation\"))\n",
    "temp=[]\n",
    "print(f\"array before rotation {c}\")\n",
    "for i in range(n):\n",
    "    temp.append(c[i])\n",
    "for i in range (len(c)-n):\n",
    "    c[i]=c[i+n]\n",
    "for i in range (n):\n",
    "    c[len(c)+i-n]=temp[i]\n",
    "print(f\"array after rotation  {c}\")"
   ]
  },
  {
   "cell_type": "markdown",
   "id": "a84f0c0b",
   "metadata": {},
   "source": [
    "\n",
    "Q4. Write a Python Program to Split the array and add the first part to the end?"
   ]
  },
  {
   "cell_type": "code",
   "execution_count": 5,
   "id": "d11404e8",
   "metadata": {},
   "outputs": [
    {
     "name": "stdout",
     "output_type": "stream",
     "text": [
      "enter the position of split array for left2\n",
      "The array Split the array and add the first part to the end [3, 4, 6, 1, 2]\n"
     ]
    }
   ],
   "source": [
    "d=[1,2,3,4,6]\n",
    "n=int(input(\"enter the position of split array for left\"))\n",
    "split=d[0:n]\n",
    "rest=d[n: ]\n",
    "add=rest+split\n",
    "print(f\"The array Split the array and add the first part to the end {add}\")"
   ]
  },
  {
   "cell_type": "markdown",
   "id": "9c5b2192",
   "metadata": {},
   "source": [
    "\n",
    "Q5. Write a Python Program to check if given array is Monotonic?"
   ]
  },
  {
   "cell_type": "code",
   "execution_count": 6,
   "id": "cb518bd4",
   "metadata": {},
   "outputs": [
    {
     "name": "stdout",
     "output_type": "stream",
     "text": [
      " array is monotonic\n"
     ]
    }
   ],
   "source": [
    "def monotonic(a):\n",
    "    inc=0\n",
    "    dec=0\n",
    "    for i in range (0,len(a)-1):\n",
    "        if (a[i]<=a[i+1]):\n",
    "            inc=inc+1\n",
    "        if (a[i]>=a[i+1]):\n",
    "            dec=dec+1\n",
    "    if inc==(len(a)-1) or dec==(len(a)-1):\n",
    "        print(\" array is monotonic\")\n",
    "    else:\n",
    "        print(\"array is not monotonic\")\n",
    "monotonic([3,4,5,6,7])"
   ]
  },
  {
   "cell_type": "code",
   "execution_count": null,
   "id": "cf7a53e8",
   "metadata": {},
   "outputs": [],
   "source": []
  }
 ],
 "metadata": {
  "kernelspec": {
   "display_name": "Python 3 (ipykernel)",
   "language": "python",
   "name": "python3"
  },
  "language_info": {
   "codemirror_mode": {
    "name": "ipython",
    "version": 3
   },
   "file_extension": ".py",
   "mimetype": "text/x-python",
   "name": "python",
   "nbconvert_exporter": "python",
   "pygments_lexer": "ipython3",
   "version": "3.9.12"
  }
 },
 "nbformat": 4,
 "nbformat_minor": 5
}
