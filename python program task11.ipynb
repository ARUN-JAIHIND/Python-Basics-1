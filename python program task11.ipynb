{
 "cells": [
  {
   "cell_type": "code",
   "execution_count": null,
   "id": "8c6742c3",
   "metadata": {},
   "outputs": [],
   "source": [
    "Q1. Write a Python program to find words which are greater than given length k?"
   ]
  },
  {
   "cell_type": "code",
   "execution_count": 1,
   "id": "36a5e31c",
   "metadata": {},
   "outputs": [
    {
     "name": "stdout",
     "output_type": "stream",
     "text": [
      "Ente value of length k which You want to find words greater than 5\n",
      "['Mahindra', 'revealed', 'Scorpio', 'Classic', 'Indian', 'market']\n"
     ]
    }
   ],
   "source": [
    "sentence=\"Mahindra has revealed the price of the new Scorpio Classic SUV for the Indian market\"\n",
    "k=int(input(\"Ente value of length k which You want to find words greater than \"))\n",
    "word=sentence.split(\" \")\n",
    "nword=[]\n",
    "for i in word:\n",
    "    if len(i)>k:\n",
    "        nword.append(i)\n",
    "print(nword)"
   ]
  },
  {
   "cell_type": "code",
   "execution_count": null,
   "id": "b52fb28a",
   "metadata": {},
   "outputs": [],
   "source": [
    "Q2. Write a Python program for removing i-th character from a string?\n"
   ]
  },
  {
   "cell_type": "code",
   "execution_count": 2,
   "id": "26ce3a69",
   "metadata": {},
   "outputs": [
    {
     "name": "stdout",
     "output_type": "stream",
     "text": [
      "enter the value of i-th character which u want to remove from string 2\n",
      "Araham\n"
     ]
    }
   ],
   "source": [
    "s=\"Abraham\"\n",
    "l=[]\n",
    "n=int(input(\"enter the value of i-th character which u want to remove from string \"))\n",
    "l.extend(s)\n",
    "s=\"\"\n",
    "for i in range (len(l)):\n",
    "    if i==(n-1):\n",
    "        pass\n",
    "    else:\n",
    "        s=s+l[i]\n",
    "print(s)"
   ]
  },
  {
   "cell_type": "code",
   "execution_count": null,
   "id": "85807048",
   "metadata": {},
   "outputs": [],
   "source": [
    "Q3. Write a Python program to split and join a string?"
   ]
  },
  {
   "cell_type": "code",
   "execution_count": 3,
   "id": "373b9720",
   "metadata": {},
   "outputs": [
    {
     "name": "stdout",
     "output_type": "stream",
     "text": [
      "string after split ['deep', 'learning']\n",
      "string after join  deep learning\n"
     ]
    }
   ],
   "source": [
    "a=\"deep learning\"\n",
    "b=a.split(' ')\n",
    "print(\"string after split\",b)\n",
    "c=\" \".join(b)\n",
    "print(\"string after join \",c)"
   ]
  },
  {
   "cell_type": "code",
   "execution_count": null,
   "id": "5ec97d1b",
   "metadata": {},
   "outputs": [],
   "source": [
    "Q4. Write a Python to check if a given string is binary string or not?"
   ]
  },
  {
   "cell_type": "code",
   "execution_count": 4,
   "id": "3d34cff5",
   "metadata": {},
   "outputs": [
    {
     "name": "stdout",
     "output_type": "stream",
     "text": [
      "Enter number11011\n",
      "11011is a binary string\n"
     ]
    }
   ],
   "source": [
    "binary=input(\"Enter number\")\n",
    "check=[]\n",
    "check.extend(binary)\n",
    "count=0\n",
    "for i in check:\n",
    "    if i==\"0\" or i==\"1\":\n",
    "        count+=1\n",
    "if count==len(check):\n",
    "    print(f\"{binary}is a binary string\")\n",
    "else:\n",
    "    print(f\"{binary}is not a binary string\")"
   ]
  },
  {
   "cell_type": "code",
   "execution_count": null,
   "id": "3e1df695",
   "metadata": {},
   "outputs": [],
   "source": [
    "Q5. Write a Python program to find uncommon words from two Strings?"
   ]
  },
  {
   "cell_type": "code",
   "execution_count": 6,
   "id": "c60ea85d",
   "metadata": {},
   "outputs": [
    {
     "name": "stdout",
     "output_type": "stream",
     "text": [
      "The uncommon words from  mumbai and  madurai is  ['b', 'd', 'r']\n"
     ]
    }
   ],
   "source": [
    "a=\"mumbai\"\n",
    "b=\"madurai\"\n",
    "c=[]\n",
    "for i in a:\n",
    "    if (i in b)==True:\n",
    "        pass\n",
    "    else:\n",
    "        c.append(i)\n",
    "for i in b:\n",
    "    if (i in a)==True:\n",
    "        pass\n",
    "    else:\n",
    "        c.append(i)        \n",
    "print(f\"The uncommon words from  {a} and  {b} is \",c)"
   ]
  },
  {
   "cell_type": "code",
   "execution_count": null,
   "id": "bfd021ee",
   "metadata": {},
   "outputs": [],
   "source": [
    "Q6. Write a Python to find all duplicate characters in string?"
   ]
  },
  {
   "cell_type": "code",
   "execution_count": 7,
   "id": "b69de738",
   "metadata": {},
   "outputs": [
    {
     "name": "stdout",
     "output_type": "stream",
     "text": [
      "The duplicate character in string is  ['a']\n"
     ]
    }
   ],
   "source": [
    "a=\"agartala\"\n",
    "dupli=[]\n",
    "for i in a:\n",
    "    if a.count(i)>1 and (i in dupli)==False:\n",
    "        dupli.append(i)\n",
    "print(\"The duplicate character in string is \",dupli)"
   ]
  },
  {
   "cell_type": "code",
   "execution_count": null,
   "id": "f6a20a99",
   "metadata": {},
   "outputs": [],
   "source": [
    "Q7. Write a Python Program to check if a string contains any special character?"
   ]
  },
  {
   "cell_type": "code",
   "execution_count": 8,
   "id": "dd782645",
   "metadata": {},
   "outputs": [
    {
     "name": "stdout",
     "output_type": "stream",
     "text": [
      "enter stringfssfgh@\n",
      "String contain special character\n"
     ]
    }
   ],
   "source": [
    "special=\"~!@#$%^&*(){}[]?><|\\/<>,.`\"\n",
    "string=input(\"enter string\")\n",
    "count=0\n",
    "for i in special:\n",
    "    if (i in string)==False:\n",
    "        count+=1\n",
    "if count>1:\n",
    "    print(\"String contain special character\")\n",
    "else:\n",
    "    print(\"String does not contain special character \")"
   ]
  },
  {
   "cell_type": "code",
   "execution_count": null,
   "id": "1806d4af",
   "metadata": {},
   "outputs": [],
   "source": []
  }
 ],
 "metadata": {
  "kernelspec": {
   "display_name": "Python 3 (ipykernel)",
   "language": "python",
   "name": "python3"
  },
  "language_info": {
   "codemirror_mode": {
    "name": "ipython",
    "version": 3
   },
   "file_extension": ".py",
   "mimetype": "text/x-python",
   "name": "python",
   "nbconvert_exporter": "python",
   "pygments_lexer": "ipython3",
   "version": "3.9.12"
  }
 },
 "nbformat": 4,
 "nbformat_minor": 5
}
